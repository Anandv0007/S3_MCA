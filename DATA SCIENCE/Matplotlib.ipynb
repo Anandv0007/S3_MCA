{
 "cells": [
  {
   "cell_type": "code",
   "execution_count": 13,
   "id": "a701660e-9507-4e2d-8655-be639e0c9f35",
   "metadata": {},
   "outputs": [],
   "source": [
    "import matplotlib.pyplot as plt"
   ]
  },
  {
   "cell_type": "markdown",
   "id": "05f71214-cbb2-45ef-9535-8ce070024596",
   "metadata": {},
   "source": [
    "### 1. Draw a line in a diagram from position (1,3) to (2,10) then to (6,12) and finally to position (18,20). (Mark each point with a beautiful green colour to red and line style dotted)."
   ]
  },
  {
   "cell_type": "code",
   "execution_count": 15,
   "id": "db735fce-c0f4-4d4d-855a-44638986b014",
   "metadata": {},
   "outputs": [
    {
     "ename": "NameError",
     "evalue": "name 'X' is not defined",
     "output_type": "error",
     "traceback": [
      "\u001b[1;31m---------------------------------------------------------------------------\u001b[0m",
      "\u001b[1;31mNameError\u001b[0m                                 Traceback (most recent call last)",
      "Cell \u001b[1;32mIn[15], line 4\u001b[0m\n\u001b[0;32m      1\u001b[0m x \u001b[38;5;241m=\u001b[39m [\u001b[38;5;241m1\u001b[39m,\u001b[38;5;241m2\u001b[39m,\u001b[38;5;241m6\u001b[39m,\u001b[38;5;241m18\u001b[39m]\n\u001b[0;32m      2\u001b[0m y \u001b[38;5;241m=\u001b[39m [\u001b[38;5;241m3\u001b[39m,\u001b[38;5;241m10\u001b[39m,\u001b[38;5;241m12\u001b[39m,\u001b[38;5;241m20\u001b[39m]\n\u001b[1;32m----> 4\u001b[0m plt\u001b[38;5;241m.\u001b[39mplot(X,y,color\u001b[38;5;241m=\u001b[39m\u001b[38;5;124m\"\u001b[39m\u001b[38;5;124mred\u001b[39m\u001b[38;5;124m\"\u001b[39m, maker\u001b[38;5;241m=\u001b[39m\u001b[38;5;124m'\u001b[39m\u001b[38;5;124mo\u001b[39m\u001b[38;5;124m'\u001b[39m, makerfacecolor\u001b[38;5;241m=\u001b[39m\u001b[38;5;124m'\u001b[39m\u001b[38;5;124mgreen\u001b[39m\u001b[38;5;124m'\u001b[39m, linestyle\u001b[38;5;241m=\u001b[39m\u001b[38;5;124m'\u001b[39m\u001b[38;5;124mdotted\u001b[39m\u001b[38;5;124m'\u001b[39m)\n\u001b[0;32m      5\u001b[0m plt\u001b[38;5;241m.\u001b[39mshow()\n",
      "\u001b[1;31mNameError\u001b[0m: name 'X' is not defined"
     ]
    }
   ],
   "source": [
    "x = [1,2,6,18]\n",
    "y = [3,10,12,20]\n",
    "\n",
    "plt.plot(x,y,color=\"red\", maker='o', makerfacecolor='green', linestyle='dotted')\n",
    "plt.show()"
   ]
  },
  {
   "cell_type": "markdown",
   "id": "42f58444-9071-4faa-8a27-299135c454e6",
   "metadata": {},
   "source": [
    "### 2. Draw a plot for the following data:\n",
    "### Temperature in degree Celsius : 12 14 16 18 20 22 24\n",
    "### Sales : 100 200 250 400 300 450 500\n"
   ]
  },
  {
   "cell_type": "markdown",
   "id": "b78f110c-d6ba-436b-8922-6f6a3d9ceb28",
   "metadata": {},
   "source": [
    "### 3. Write a Python program to draw a line using given axis values taken from a text fike, with suitable label in the X axis, y axis and a title\n"
   ]
  },
  {
   "cell_type": "markdown",
   "id": "36a69510-f7ee-41f3-a871-044b432ebad0",
   "metadata": {},
   "source": [
    "### 4. Write a Python program to plot two or more lines on the same plot with suitable legends of each line."
   ]
  },
  {
   "cell_type": "markdown",
   "id": "1452f57b-26dc-4754-a58e-40a73a89fd59",
   "metadata": {},
   "source": [
    "### 5. Write a Python program to create multiple plots."
   ]
  },
  {
   "cell_type": "markdown",
   "id": "acbbc8a3-30e7-4249-88fc-a8bd3e0580f7",
   "metadata": {},
   "source": [
    "### 6. Consider the following data\n",
    "### Programming languages : Java Python PHP JavaScript C# C++\n",
    "### Popularity : 22.2 17.6 8.8 8 77 6.7\n",
    "### i) Write a Python program to display a bar chart of the popularity of programming languages.\n",
    "### ii) Write a Python programming to display a horizontal bar chart of the popularity of programming language (Given red color to the bar chart)\n",
    "### iii) Write a Python program to display a bar chart of the popularity of programming language. Use a different color for each bar.\n",
    "\n"
   ]
  },
  {
   "cell_type": "markdown",
   "id": "f3b0998f-b696-4232-bbc5-a7af4c0137ee",
   "metadata": {},
   "source": [
    "### 7. Write a python program to create a bar plot of scores by group and gender. Use multiple X values on the same chart for men and women\n",
    "### Sample data :\n",
    "### Means(men) =(22,30,35,26)\n",
    "### Means(women) = (25, 32, 30, 35,29)"
   ]
  }
 ],
 "metadata": {
  "kernelspec": {
   "display_name": "Python 3 (ipykernel)",
   "language": "python",
   "name": "python3"
  },
  "language_info": {
   "codemirror_mode": {
    "name": "ipython",
    "version": 3
   },
   "file_extension": ".py",
   "mimetype": "text/x-python",
   "name": "python",
   "nbconvert_exporter": "python",
   "pygments_lexer": "ipython3",
   "version": "3.12.4"
  }
 },
 "nbformat": 4,
 "nbformat_minor": 5
}
