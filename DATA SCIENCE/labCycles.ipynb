{
 "cells": [
  {
   "cell_type": "code",
   "execution_count": null,
   "id": "57ed405d-ef99-444a-9c04-5d9d9363126c",
   "metadata": {},
   "outputs": [],
   "source": [
    "Lab cycle 1\n",
    "\n",
    "intro to numpy\n",
    "\n",
    "Lab cycle 2\n",
    "\n",
    "matrix operation (using vectorization) and transformation\n",
    "\n",
    "Lab cycle 3\n",
    "\n",
    "Programs using matplotlib\n",
    "\n",
    "\n",
    "Lab cycle 4\n",
    "\n",
    "intro to pandas\n",
    "\n",
    "Lab cycle 5\n",
    "\n",
    "implementation of knn\n",
    "\n",
    "Lab cycle 6\n",
    "\n",
    "predict diabetes using knn (including scatter plot)"
   ]
  },
  {
   "cell_type": "code",
   "execution_count": null,
   "id": "475814ca-aa7b-476b-99b0-f77ae1af31fc",
   "metadata": {},
   "outputs": [],
   "source": [
    "Lab Tutorial 1 - 10/10/2024\n",
    "\n",
    "diabetes.csv"
   ]
  }
 ],
 "metadata": {
  "kernelspec": {
   "display_name": "Python 3 (ipykernel)",
   "language": "python",
   "name": "python3"
  },
  "language_info": {
   "codemirror_mode": {
    "name": "ipython",
    "version": 3
   },
   "file_extension": ".py",
   "mimetype": "text/x-python",
   "name": "python",
   "nbconvert_exporter": "python",
   "pygments_lexer": "ipython3",
   "version": "3.12.4"
  }
 },
 "nbformat": 4,
 "nbformat_minor": 5
}
