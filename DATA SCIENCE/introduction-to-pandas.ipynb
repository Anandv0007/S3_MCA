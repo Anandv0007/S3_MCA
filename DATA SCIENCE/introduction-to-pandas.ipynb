{
 "cells": [
  {
   "cell_type": "code",
   "execution_count": 1,
   "id": "e07f975b-6fcb-4783-9038-13ed46c93c46",
   "metadata": {},
   "outputs": [],
   "source": [
    "import pandas as pd"
   ]
  },
  {
   "cell_type": "markdown",
   "id": "19d0525c-8950-4147-9cf7-98fc90df2318",
   "metadata": {},
   "source": [
    "### 1. Write a python program to convert list to series."
   ]
  },
  {
   "cell_type": "code",
   "execution_count": 3,
   "id": "fe6809db-e313-48ef-97d4-d45a00c3090f",
   "metadata": {},
   "outputs": [
    {
     "data": {
      "text/plain": [
       "0    10\n",
       "1    20\n",
       "2    30\n",
       "3    40\n",
       "4    50\n",
       "dtype: int64"
      ]
     },
     "execution_count": 3,
     "metadata": {},
     "output_type": "execute_result"
    }
   ],
   "source": [
    "datalist = [10,20,30,40,50]\n",
    "dataSeries = pd.Series(datalist)\n",
    "dataSeries"
   ]
  },
  {
   "cell_type": "markdown",
   "id": "086a1bb7-69d5-43f9-bedc-80ef2a0e4125",
   "metadata": {},
   "source": [
    "### 2. Write a python program to generate series of dates from first august 2024 to 15 august 2024 (including 1 and 15)."
   ]
  },
  {
   "cell_type": "code",
   "execution_count": 6,
   "id": "6f36b64d-e2f2-4825-a311-31ec8fbc5b62",
   "metadata": {
    "scrolled": true
   },
   "outputs": [
    {
     "data": {
      "text/plain": [
       "DatetimeIndex(['2024-08-01', '2024-08-02', '2024-08-03', '2024-08-04',\n",
       "               '2024-08-05', '2024-08-06', '2024-08-07', '2024-08-08',\n",
       "               '2024-08-09', '2024-08-10', '2024-08-11', '2024-08-12',\n",
       "               '2024-08-13', '2024-08-14', '2024-08-15'],\n",
       "              dtype='datetime64[ns]', freq='D')"
      ]
     },
     "execution_count": 6,
     "metadata": {},
     "output_type": "execute_result"
    }
   ],
   "source": [
    "start_date = '2024-08-01'\n",
    "end_date = '2024-08-15'\n",
    "\n",
    "dates = pd.date_range(start_date, end_date)\n",
    "dates"
   ]
  },
  {
   "cell_type": "markdown",
   "id": "7774e903-effc-425e-a275-63047d3c124a",
   "metadata": {},
   "source": [
    "### 3. Convert a dict to dataframe and display it."
   ]
  },
  {
   "cell_type": "code",
   "execution_count": 8,
   "id": "540e8127-2ad6-42da-987c-f69c2b344470",
   "metadata": {},
   "outputs": [
    {
     "data": {
      "text/html": [
       "<div>\n",
       "<style scoped>\n",
       "    .dataframe tbody tr th:only-of-type {\n",
       "        vertical-align: middle;\n",
       "    }\n",
       "\n",
       "    .dataframe tbody tr th {\n",
       "        vertical-align: top;\n",
       "    }\n",
       "\n",
       "    .dataframe thead th {\n",
       "        text-align: right;\n",
       "    }\n",
       "</style>\n",
       "<table border=\"1\" class=\"dataframe\">\n",
       "  <thead>\n",
       "    <tr style=\"text-align: right;\">\n",
       "      <th></th>\n",
       "      <th>Names</th>\n",
       "      <th>Age</th>\n",
       "      <th>Education</th>\n",
       "    </tr>\n",
       "  </thead>\n",
       "  <tbody>\n",
       "    <tr>\n",
       "      <th>0</th>\n",
       "      <td>John</td>\n",
       "      <td>23</td>\n",
       "      <td>BCA</td>\n",
       "    </tr>\n",
       "    <tr>\n",
       "      <th>1</th>\n",
       "      <td>Jacob</td>\n",
       "      <td>33</td>\n",
       "      <td>B.com</td>\n",
       "    </tr>\n",
       "    <tr>\n",
       "      <th>2</th>\n",
       "      <td>Shaheen</td>\n",
       "      <td>28</td>\n",
       "      <td>BSc CS</td>\n",
       "    </tr>\n",
       "  </tbody>\n",
       "</table>\n",
       "</div>"
      ],
      "text/plain": [
       "     Names  Age Education\n",
       "0     John   23       BCA\n",
       "1    Jacob   33     B.com\n",
       "2  Shaheen   28    BSc CS"
      ]
     },
     "execution_count": 8,
     "metadata": {},
     "output_type": "execute_result"
    }
   ],
   "source": [
    "datas = {\n",
    "    \"Names\" : ['John','Jacob','Shaheen'],\n",
    "    \"Age\" : [23,33,28],\n",
    "    \"Education\" : [\"BCA\",\"B.com\",\"BSc CS\"]\n",
    "}\n",
    "\n",
    "details = pd.DataFrame(datas)\n",
    "details"
   ]
  },
  {
   "cell_type": "markdown",
   "id": "f23b9b80-f80c-43e7-a160-60a9079d1319",
   "metadata": {},
   "source": [
    "### 4. Create a 2D list and convert it into DF and display it."
   ]
  },
  {
   "cell_type": "code",
   "execution_count": 14,
   "id": "0498118d-7061-4d8e-8759-de135b508961",
   "metadata": {},
   "outputs": [
    {
     "data": {
      "text/html": [
       "<div>\n",
       "<style scoped>\n",
       "    .dataframe tbody tr th:only-of-type {\n",
       "        vertical-align: middle;\n",
       "    }\n",
       "\n",
       "    .dataframe tbody tr th {\n",
       "        vertical-align: top;\n",
       "    }\n",
       "\n",
       "    .dataframe thead th {\n",
       "        text-align: right;\n",
       "    }\n",
       "</style>\n",
       "<table border=\"1\" class=\"dataframe\">\n",
       "  <thead>\n",
       "    <tr style=\"text-align: right;\">\n",
       "      <th></th>\n",
       "      <th>Name</th>\n",
       "      <th>Age</th>\n",
       "      <th>Course</th>\n",
       "    </tr>\n",
       "  </thead>\n",
       "  <tbody>\n",
       "    <tr>\n",
       "      <th>0</th>\n",
       "      <td>John</td>\n",
       "      <td>23</td>\n",
       "      <td>BCA</td>\n",
       "    </tr>\n",
       "    <tr>\n",
       "      <th>1</th>\n",
       "      <td>Jacob</td>\n",
       "      <td>33</td>\n",
       "      <td>B.Com</td>\n",
       "    </tr>\n",
       "    <tr>\n",
       "      <th>2</th>\n",
       "      <td>Shaheen</td>\n",
       "      <td>28</td>\n",
       "      <td>BSc CS</td>\n",
       "    </tr>\n",
       "  </tbody>\n",
       "</table>\n",
       "</div>"
      ],
      "text/plain": [
       "      Name  Age  Course\n",
       "0     John   23     BCA\n",
       "1    Jacob   33   B.Com\n",
       "2  Shaheen   28  BSc CS"
      ]
     },
     "execution_count": 14,
     "metadata": {},
     "output_type": "execute_result"
    }
   ],
   "source": [
    "data = [\n",
    "    ['John',23,'BCA'],\n",
    "    ['Jacob',33,'B.Com'],\n",
    "    ['Shaheen',28,'BSc CS']\n",
    "]\n",
    "\n",
    "title = ['Name', 'Age', 'Course']\n",
    "\n",
    "student = pd.DataFrame(data, columns=title)\n",
    "student"
   ]
  },
  {
   "cell_type": "markdown",
   "id": "427d18d1-f143-4e0e-b194-18cc5bdaac90",
   "metadata": {},
   "source": [
    "### 5. Given a CSV file, read it into a DataFrame and display it"
   ]
  },
  {
   "cell_type": "code",
   "execution_count": 19,
   "id": "2ec957e8-07b8-4ea1-8fd0-7da1c9f658a3",
   "metadata": {},
   "outputs": [
    {
     "data": {
      "text/html": [
       "<div>\n",
       "<style scoped>\n",
       "    .dataframe tbody tr th:only-of-type {\n",
       "        vertical-align: middle;\n",
       "    }\n",
       "\n",
       "    .dataframe tbody tr th {\n",
       "        vertical-align: top;\n",
       "    }\n",
       "\n",
       "    .dataframe thead th {\n",
       "        text-align: right;\n",
       "    }\n",
       "</style>\n",
       "<table border=\"1\" class=\"dataframe\">\n",
       "  <thead>\n",
       "    <tr style=\"text-align: right;\">\n",
       "      <th></th>\n",
       "      <th>0</th>\n",
       "      <th>ABC</th>\n",
       "      <th>20</th>\n",
       "    </tr>\n",
       "  </thead>\n",
       "  <tbody>\n",
       "    <tr>\n",
       "      <th>0</th>\n",
       "      <td>1</td>\n",
       "      <td>DEF</td>\n",
       "      <td>30</td>\n",
       "    </tr>\n",
       "    <tr>\n",
       "      <th>1</th>\n",
       "      <td>2</td>\n",
       "      <td>GHI</td>\n",
       "      <td>40</td>\n",
       "    </tr>\n",
       "    <tr>\n",
       "      <th>2</th>\n",
       "      <td>3</td>\n",
       "      <td>JKL</td>\n",
       "      <td>50</td>\n",
       "    </tr>\n",
       "  </tbody>\n",
       "</table>\n",
       "</div>"
      ],
      "text/plain": [
       "   0  ABC  20\n",
       "0  1  DEF  30\n",
       "1  2  GHI  40\n",
       "2  3  JKL  50"
      ]
     },
     "execution_count": 19,
     "metadata": {},
     "output_type": "execute_result"
    }
   ],
   "source": [
    "data = pd.read_csv('file.csv')\n",
    "data"
   ]
  },
  {
   "cell_type": "markdown",
   "id": "dc886f36-4a36-495d-9908-83355aeedac1",
   "metadata": {},
   "source": [
    "### 6. Given a dataframe sort it by multiple columns"
   ]
  },
  {
   "cell_type": "code",
   "execution_count": 35,
   "id": "fec911c3-3659-4720-9acf-5df6ee26d717",
   "metadata": {},
   "outputs": [
    {
     "data": {
      "text/html": [
       "<div>\n",
       "<style scoped>\n",
       "    .dataframe tbody tr th:only-of-type {\n",
       "        vertical-align: middle;\n",
       "    }\n",
       "\n",
       "    .dataframe tbody tr th {\n",
       "        vertical-align: top;\n",
       "    }\n",
       "\n",
       "    .dataframe thead th {\n",
       "        text-align: right;\n",
       "    }\n",
       "</style>\n",
       "<table border=\"1\" class=\"dataframe\">\n",
       "  <thead>\n",
       "    <tr style=\"text-align: right;\">\n",
       "      <th></th>\n",
       "      <th>Names</th>\n",
       "      <th>Age</th>\n",
       "      <th>Education</th>\n",
       "    </tr>\n",
       "  </thead>\n",
       "  <tbody>\n",
       "    <tr>\n",
       "      <th>0</th>\n",
       "      <td>John</td>\n",
       "      <td>23</td>\n",
       "      <td>BCA</td>\n",
       "    </tr>\n",
       "    <tr>\n",
       "      <th>2</th>\n",
       "      <td>Shaheen</td>\n",
       "      <td>28</td>\n",
       "      <td>BSc CS</td>\n",
       "    </tr>\n",
       "    <tr>\n",
       "      <th>1</th>\n",
       "      <td>Jacob</td>\n",
       "      <td>33</td>\n",
       "      <td>B.com</td>\n",
       "    </tr>\n",
       "  </tbody>\n",
       "</table>\n",
       "</div>"
      ],
      "text/plain": [
       "     Names  Age Education\n",
       "0     John   23       BCA\n",
       "2  Shaheen   28    BSc CS\n",
       "1    Jacob   33     B.com"
      ]
     },
     "execution_count": 35,
     "metadata": {},
     "output_type": "execute_result"
    }
   ],
   "source": [
    "datas = {\n",
    "    \"Names\" : ['John','Jacob','Shaheen'],\n",
    "    \"Age\" : [23,33,28],\n",
    "    \"Education\" : [\"BCA\",\"B.com\",\"BSc CS\"]\n",
    "}\n",
    "\n",
    "students = pd.DataFrame(datas)\n",
    "\n",
    "details = students.sort_values(by=['Age','Names'])\n",
    "details"
   ]
  },
  {
   "cell_type": "markdown",
   "id": "2c5c3b0e-83d6-47b0-bb6c-4acd84d21890",
   "metadata": {},
   "source": [
    "### 7. Given a dataframe with custom indexing, convert and it to default indexing and display it"
   ]
  },
  {
   "cell_type": "code",
   "execution_count": null,
   "id": "bbb1d2dc-820a-47a3-b5d5-6071cb5fa63c",
   "metadata": {},
   "outputs": [],
   "source": []
  }
 ],
 "metadata": {
  "kernelspec": {
   "display_name": "Python 3 (ipykernel)",
   "language": "python",
   "name": "python3"
  },
  "language_info": {
   "codemirror_mode": {
    "name": "ipython",
    "version": 3
   },
   "file_extension": ".py",
   "mimetype": "text/x-python",
   "name": "python",
   "nbconvert_exporter": "python",
   "pygments_lexer": "ipython3",
   "version": "3.12.4"
  }
 },
 "nbformat": 4,
 "nbformat_minor": 5
}
