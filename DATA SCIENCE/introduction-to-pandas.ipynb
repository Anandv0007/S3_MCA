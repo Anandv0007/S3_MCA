{
 "cells": [
  {
   "cell_type": "markdown",
   "id": "19d0525c-8950-4147-9cf7-98fc90df2318",
   "metadata": {},
   "source": [
    "### 1. Write a python program to convert list to series."
   ]
  },
  {
   "cell_type": "markdown",
   "id": "086a1bb7-69d5-43f9-bedc-80ef2a0e4125",
   "metadata": {},
   "source": [
    "### 2. Write a python program to generate series of dates from first august 2024 to 15 august 2024 (including 1 and 15)."
   ]
  },
  {
   "cell_type": "markdown",
   "id": "7774e903-effc-425e-a275-63047d3c124a",
   "metadata": {},
   "source": [
    "### 3. Convert a dict to dataframe and display it."
   ]
  },
  {
   "cell_type": "markdown",
   "id": "f23b9b80-f80c-43e7-a160-60a9079d1319",
   "metadata": {},
   "source": [
    "### 4. Create a 2D list and convert it into DF and display it."
   ]
  },
  {
   "cell_type": "code",
   "execution_count": null,
   "id": "0498118d-7061-4d8e-8759-de135b508961",
   "metadata": {},
   "outputs": [],
   "source": []
  }
 ],
 "metadata": {
  "kernelspec": {
   "display_name": "Python 3 (ipykernel)",
   "language": "python",
   "name": "python3"
  },
  "language_info": {
   "codemirror_mode": {
    "name": "ipython",
    "version": 3
   },
   "file_extension": ".py",
   "mimetype": "text/x-python",
   "name": "python",
   "nbconvert_exporter": "python",
   "pygments_lexer": "ipython3",
   "version": "3.12.4"
  }
 },
 "nbformat": 4,
 "nbformat_minor": 5
}
