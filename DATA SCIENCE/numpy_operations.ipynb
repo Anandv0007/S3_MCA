{
 "cells": [
  {
   "cell_type": "code",
   "execution_count": 8,
   "id": "f1656473-ddc3-4d6e-adf1-a445e6e917bb",
   "metadata": {},
   "outputs": [],
   "source": [
    "import numpy as np"
   ]
  },
  {
   "cell_type": "markdown",
   "id": "2077c770-e15e-4274-a5aa-33d48f2732c3",
   "metadata": {},
   "source": [
    "## Write a numpy program to create two arrays and print it and make elemnt wise compariosn(<.>,<=,>=)"
   ]
  },
  {
   "cell_type": "code",
   "execution_count": 35,
   "id": "c1c21363-b4d1-4f79-a3c6-84611b12c5a7",
   "metadata": {},
   "outputs": [
    {
     "data": {
      "text/plain": [
       "array([False, False, False, False, False])"
      ]
     },
     "execution_count": 35,
     "metadata": {},
     "output_type": "execute_result"
    }
   ],
   "source": [
    "a = np.array([1,2,3,4,5])\n",
    "b = np.array([6,7,8,9,10])\n",
    "np.greater(a,b)\n"
   ]
  },
  {
   "cell_type": "code",
   "execution_count": 37,
   "id": "784203b5-1f3d-44f4-a830-3bc739fc56d4",
   "metadata": {},
   "outputs": [
    {
     "data": {
      "text/plain": [
       "array([ True,  True,  True,  True,  True])"
      ]
     },
     "execution_count": 37,
     "metadata": {},
     "output_type": "execute_result"
    }
   ],
   "source": [
    "np.less(a,b)"
   ]
  },
  {
   "cell_type": "code",
   "execution_count": 39,
   "id": "63679993-a488-469b-bcd1-8307094dd05b",
   "metadata": {},
   "outputs": [
    {
     "data": {
      "text/plain": [
       "array([False, False, False, False, False])"
      ]
     },
     "execution_count": 39,
     "metadata": {},
     "output_type": "execute_result"
    }
   ],
   "source": [
    "np.greater_equal(a,b)"
   ]
  },
  {
   "cell_type": "code",
   "execution_count": 41,
   "id": "cc4f9800-d270-4acd-8816-8eb7d12dc120",
   "metadata": {},
   "outputs": [
    {
     "data": {
      "text/plain": [
       "array([ True,  True,  True,  True,  True])"
      ]
     },
     "execution_count": 41,
     "metadata": {},
     "output_type": "execute_result"
    }
   ],
   "source": [
    "np.less_equal(a,b)"
   ]
  },
  {
   "cell_type": "code",
   "execution_count": 45,
   "id": "87080467-6f46-4cfc-b746-c3aef6f0afdc",
   "metadata": {},
   "outputs": [
    {
     "data": {
      "text/plain": [
       "array([False, False, False, False, False])"
      ]
     },
     "execution_count": 45,
     "metadata": {},
     "output_type": "execute_result"
    }
   ],
   "source": [
    "np.equal(a,b)"
   ]
  },
  {
   "cell_type": "markdown",
   "id": "9066caaa-618f-481f-8bf4-89c529a9033e",
   "metadata": {},
   "source": [
    "## Write a numpy program to create even array starting from 50 to 90"
   ]
  },
  {
   "cell_type": "code",
   "execution_count": 48,
   "id": "aa8bf4ef-db3c-45a3-8684-37a661af1e5f",
   "metadata": {},
   "outputs": [
    {
     "data": {
      "text/plain": [
       "array([50, 52, 54, 56, 58, 60, 62, 64, 66, 68, 70, 72, 74, 76, 78, 80, 82,\n",
       "       84, 86, 88])"
      ]
     },
     "execution_count": 48,
     "metadata": {},
     "output_type": "execute_result"
    }
   ],
   "source": [
    "x = np.arange(50,90,2)\n",
    "x"
   ]
  },
  {
   "cell_type": "markdown",
   "id": "336722d1-0bd1-4cac-88f0-7ffd5a56990d",
   "metadata": {},
   "source": [
    "## create a numpy program to generate a 4*4 identity matrix"
   ]
  },
  {
   "cell_type": "code",
   "execution_count": 55,
   "id": "6d8aef3c-797e-4637-be00-7e5881569a67",
   "metadata": {},
   "outputs": [
    {
     "data": {
      "text/plain": [
       "array([[1, 0, 0, 0],\n",
       "       [0, 1, 0, 0],\n",
       "       [0, 0, 1, 0],\n",
       "       [0, 0, 0, 1]])"
      ]
     },
     "execution_count": 55,
     "metadata": {},
     "output_type": "execute_result"
    }
   ],
   "source": [
    "y = np.identity(4,dtype=int)\n",
    "y"
   ]
  },
  {
   "cell_type": "markdown",
   "id": "9f33ec81-d289-473f-8085-9668b6a3d1c0",
   "metadata": {},
   "source": [
    "## write a program to create a 5*5 zero matrix with elements on the main diagonal = 1,2,3,4,5 . others should be 0"
   ]
  },
  {
   "cell_type": "code",
   "execution_count": 65,
   "id": "1802c210-3097-4067-b1cd-bfc4788b2b77",
   "metadata": {},
   "outputs": [
    {
     "data": {
      "text/plain": [
       "array([[1, 0, 0, 0, 0],\n",
       "       [0, 2, 0, 0, 0],\n",
       "       [0, 0, 3, 0, 0],\n",
       "       [0, 0, 0, 4, 0],\n",
       "       [0, 0, 0, 0, 5]])"
      ]
     },
     "execution_count": 65,
     "metadata": {},
     "output_type": "execute_result"
    }
   ],
   "source": [
    "np.diag([1,2,3,4,5])"
   ]
  },
  {
   "cell_type": "markdown",
   "id": "c2a9b871-576c-413d-b33c-0f5f59f9753e",
   "metadata": {},
   "source": [
    "### Write a numpy program to create a vector with values 0 to 20  and change the sign of the number in the range from 9 to 15.\n"
   ]
  },
  {
   "cell_type": "code",
   "execution_count": 16,
   "id": "bd229a6b-f931-40ab-80ab-dbf1d2577e8e",
   "metadata": {},
   "outputs": [
    {
     "name": "stdout",
     "output_type": "stream",
     "text": [
      "[0, 1, 2, 3, 4, 5, 6, 7, 8, -9, -10, -11, -12, -13, -14, -15, 16, 17, 18, 19, 20]\n"
     ]
    }
   ],
   "source": [
    "n = np.arange(0,21)\n",
    "l = []\n",
    "for i in n:\n",
    "    if i>=9 and i<=15:\n",
    "        i=i*-1\n",
    "    l.append(i)\n",
    "print(l)"
   ]
  },
  {
   "cell_type": "markdown",
   "id": "72c277d0-d345-4302-833e-093822ab21e6",
   "metadata": {},
   "source": [
    "### Write a numpy program to compute sum of all the elements, sum of each col and sum of each row of an array\n"
   ]
  },
  {
   "cell_type": "code",
   "execution_count": 71,
   "id": "072941f3-4f66-441f-85d6-88f78972dc34",
   "metadata": {},
   "outputs": [
    {
     "name": "stdin",
     "output_type": "stream",
     "text": [
      " 1 2 3 4 5 6\n"
     ]
    },
    {
     "name": "stdout",
     "output_type": "stream",
     "text": [
      "Matrix is \n",
      "[[1 2]\n",
      " [3 4]\n",
      " [5 6]]\n",
      "Matrix sum\n",
      "21\n",
      "Sum of each row\n",
      "[ 3  7 11]\n",
      "Sum of each column\n",
      "[ 9 12]\n"
     ]
    },
    {
     "data": {
      "text/plain": [
       "numpy.ndarray"
      ]
     },
     "execution_count": 71,
     "metadata": {},
     "output_type": "execute_result"
    }
   ],
   "source": [
    "#matrix = np.random.randint(0,20, size=(3,3))\n",
    "\n",
    "\"\"\"m = int(input(\"Enter number of rows : \"))\n",
    "n = int(input(\"Enter number of column : \"))\n",
    "matrix = []\n",
    "print(\"Enter the matrix\")\n",
    "for i in range(m):\n",
    "    row = []\n",
    "    for j in range(n):\n",
    "        a = int(input())\n",
    "        row.append(a)\n",
    "    matrix.append(row)\"\"\"\n",
    "\n",
    "a = list(map(int, input().split()))\n",
    "matrix = np.array(a).reshape(m,n)\n",
    "matrix\n",
    "\n",
    "matrix_sum = np.sum(matrix)\n",
    "\n",
    "matrix_row_sum = np.sum(matrix,axis=1)\n",
    "\n",
    "matrix_col_sum = np.sum(matrix,axis=0)\n",
    "\n",
    "print(\"Matrix is \")\n",
    "print(matrix)\n",
    "\n",
    "print(\"Matrix sum\")\n",
    "print(matrix_sum)\n",
    "\n",
    "print(\"Sum of each row\")\n",
    "print(matrix_row_sum)\n",
    "\n",
    "print(\"Sum of each column\")\n",
    "print(matrix_col_sum)\n",
    "type(matrix)"
   ]
  },
  {
   "cell_type": "markdown",
   "id": "eea45f95-e141-42e8-ab3c-3028c054d390",
   "metadata": {},
   "source": [
    "### Write a numpy program to save a given array to a text file and load it.\n"
   ]
  },
  {
   "cell_type": "code",
   "execution_count": 40,
   "id": "ea0caf0e-0eab-4e39-878e-d8d84d0de603",
   "metadata": {},
   "outputs": [
    {
     "name": "stdout",
     "output_type": "stream",
     "text": [
      "[[17. 19. 17.]\n",
      " [16.  1.  2.]\n",
      " [19.  8. 17.]]\n"
     ]
    }
   ],
   "source": [
    "m1 = np.random.randint(0,20, size=(3,3))\n",
    "\n",
    "fname = 'array1.txt'\n",
    "\n",
    "np.savetxt(fname,m1)\n",
    "\n",
    "a = np.loadtxt(fname)\n",
    "\n",
    "print(a)"
   ]
  },
  {
   "cell_type": "markdown",
   "id": "35669379-764f-4d7c-95be-e65dfe2c05b4",
   "metadata": {},
   "source": [
    "### Write a numpy program to check whether two arrays are equal..element wise comp\n"
   ]
  },
  {
   "cell_type": "code",
   "execution_count": 46,
   "id": "1b39d9d6-04ad-4aa2-ab0f-e85401812662",
   "metadata": {},
   "outputs": [
    {
     "name": "stdout",
     "output_type": "stream",
     "text": [
      "[[False False False]\n",
      " [False  True False]\n",
      " [False False False]]\n"
     ]
    }
   ],
   "source": [
    "#mat1 = np.random.randint(0,20, size=(3,3))\n",
    "#mat2 = np.random.randint(0,20, size=(3,3))\n",
    "matrix1 = np.array([[1, 2, 3],\n",
    "                    [4, 5, 6],\n",
    "                    [7, 8, 9]])\n",
    "\n",
    "matrix2 = np.array([[9, 8, 7],\n",
    "                    [6, 5, 4],\n",
    "                    [3, 2, 1]])\n",
    "res = matrix1 == matrix2\n",
    "print(res)"
   ]
  },
  {
   "cell_type": "markdown",
   "id": "a8c9acb8-fca6-429c-aae5-a7b7a33f786b",
   "metadata": {},
   "source": [
    "\n",
    "### Write a numpy program to create a 4*4 array, create a new array from the set array by swapping first and last rows .\n"
   ]
  },
  {
   "cell_type": "code",
   "execution_count": 56,
   "id": "14d1b1ab-dadd-445a-a516-aaa5c0875d66",
   "metadata": {},
   "outputs": [
    {
     "name": "stdout",
     "output_type": "stream",
     "text": [
      "Before swapping\n",
      "[[6 7 1 6]\n",
      " [4 1 2 6]\n",
      " [3 0 6 1]\n",
      " [6 6 2 9]]\n",
      "After swapping\n",
      "[[6 6 2 9]\n",
      " [4 1 2 6]\n",
      " [3 0 6 1]\n",
      " [6 7 1 6]]\n"
     ]
    }
   ],
   "source": [
    "n = np.random.randint(0,10, size=(4,4))\n",
    "print(\"Before swapping\")\n",
    "print(n)\n",
    "\n",
    "print(\"After swapping\")\n",
    "n[[0, -1]] = n[[-1, 0]] \n",
    "print(n)"
   ]
  },
  {
   "cell_type": "markdown",
   "id": "bfdddf21-56db-463b-bba4-473f7b985b73",
   "metadata": {},
   "source": [
    "\n",
    "### Write numpy program to multiply two arrays of same size element by element."
   ]
  },
  {
   "cell_type": "code",
   "execution_count": 48,
   "id": "06653245-6d7a-45eb-b528-15af5b8ecce0",
   "metadata": {},
   "outputs": [
    {
     "data": {
      "text/plain": [
       "array([[ 9, 16, 21],\n",
       "       [24, 25, 24],\n",
       "       [21, 16,  9]])"
      ]
     },
     "execution_count": 48,
     "metadata": {},
     "output_type": "execute_result"
    }
   ],
   "source": [
    "mat = matrix1*matrix2\n",
    "mat"
   ]
  },
  {
   "cell_type": "code",
   "execution_count": null,
   "id": "14005054-a2d9-4bda-95c6-450b8077487d",
   "metadata": {},
   "outputs": [],
   "source": []
  }
 ],
 "metadata": {
  "kernelspec": {
   "display_name": "Python 3 (ipykernel)",
   "language": "python",
   "name": "python3"
  },
  "language_info": {
   "codemirror_mode": {
    "name": "ipython",
    "version": 3
   },
   "file_extension": ".py",
   "mimetype": "text/x-python",
   "name": "python",
   "nbconvert_exporter": "python",
   "pygments_lexer": "ipython3",
   "version": "3.12.4"
  }
 },
 "nbformat": 4,
 "nbformat_minor": 5
}
