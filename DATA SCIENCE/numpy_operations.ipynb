{
 "cells": [
  {
   "cell_type": "code",
   "execution_count": 20,
   "id": "f1656473-ddc3-4d6e-adf1-a445e6e917bb",
   "metadata": {},
   "outputs": [],
   "source": [
    "import numpy as np"
   ]
  },
  {
   "cell_type": "markdown",
   "id": "2077c770-e15e-4274-a5aa-33d48f2732c3",
   "metadata": {},
   "source": [
    "## Write a numpy program to create two arrays and print it and make elemnt wise compariosn(<.>,<=,>=)"
   ]
  },
  {
   "cell_type": "code",
   "execution_count": 35,
   "id": "c1c21363-b4d1-4f79-a3c6-84611b12c5a7",
   "metadata": {},
   "outputs": [
    {
     "data": {
      "text/plain": [
       "array([False, False, False, False, False])"
      ]
     },
     "execution_count": 35,
     "metadata": {},
     "output_type": "execute_result"
    }
   ],
   "source": [
    "a = np.array([1,2,3,4,5])\n",
    "b = np.array([6,7,8,9,10])\n",
    "np.greater(a,b)\n"
   ]
  },
  {
   "cell_type": "code",
   "execution_count": 37,
   "id": "784203b5-1f3d-44f4-a830-3bc739fc56d4",
   "metadata": {},
   "outputs": [
    {
     "data": {
      "text/plain": [
       "array([ True,  True,  True,  True,  True])"
      ]
     },
     "execution_count": 37,
     "metadata": {},
     "output_type": "execute_result"
    }
   ],
   "source": [
    "np.less(a,b)"
   ]
  },
  {
   "cell_type": "code",
   "execution_count": 39,
   "id": "63679993-a488-469b-bcd1-8307094dd05b",
   "metadata": {},
   "outputs": [
    {
     "data": {
      "text/plain": [
       "array([False, False, False, False, False])"
      ]
     },
     "execution_count": 39,
     "metadata": {},
     "output_type": "execute_result"
    }
   ],
   "source": [
    "np.greater_equal(a,b)"
   ]
  },
  {
   "cell_type": "code",
   "execution_count": 41,
   "id": "cc4f9800-d270-4acd-8816-8eb7d12dc120",
   "metadata": {},
   "outputs": [
    {
     "data": {
      "text/plain": [
       "array([ True,  True,  True,  True,  True])"
      ]
     },
     "execution_count": 41,
     "metadata": {},
     "output_type": "execute_result"
    }
   ],
   "source": [
    "np.less_equal(a,b)"
   ]
  },
  {
   "cell_type": "code",
   "execution_count": 45,
   "id": "87080467-6f46-4cfc-b746-c3aef6f0afdc",
   "metadata": {},
   "outputs": [
    {
     "data": {
      "text/plain": [
       "array([False, False, False, False, False])"
      ]
     },
     "execution_count": 45,
     "metadata": {},
     "output_type": "execute_result"
    }
   ],
   "source": [
    "np.equal(a,b)"
   ]
  },
  {
   "cell_type": "markdown",
   "id": "9066caaa-618f-481f-8bf4-89c529a9033e",
   "metadata": {},
   "source": [
    "## Write a numpy program to create even array starting from 50 to 90"
   ]
  },
  {
   "cell_type": "code",
   "execution_count": 48,
   "id": "aa8bf4ef-db3c-45a3-8684-37a661af1e5f",
   "metadata": {},
   "outputs": [
    {
     "data": {
      "text/plain": [
       "array([50, 52, 54, 56, 58, 60, 62, 64, 66, 68, 70, 72, 74, 76, 78, 80, 82,\n",
       "       84, 86, 88])"
      ]
     },
     "execution_count": 48,
     "metadata": {},
     "output_type": "execute_result"
    }
   ],
   "source": [
    "x = np.arange(50,90,2)\n",
    "x"
   ]
  },
  {
   "cell_type": "markdown",
   "id": "336722d1-0bd1-4cac-88f0-7ffd5a56990d",
   "metadata": {},
   "source": [
    "## create a numpy program to generate a 4*4 identity matrix"
   ]
  },
  {
   "cell_type": "code",
   "execution_count": 55,
   "id": "6d8aef3c-797e-4637-be00-7e5881569a67",
   "metadata": {},
   "outputs": [
    {
     "data": {
      "text/plain": [
       "array([[1, 0, 0, 0],\n",
       "       [0, 1, 0, 0],\n",
       "       [0, 0, 1, 0],\n",
       "       [0, 0, 0, 1]])"
      ]
     },
     "execution_count": 55,
     "metadata": {},
     "output_type": "execute_result"
    }
   ],
   "source": [
    "y = np.identity(4,dtype=int)\n",
    "y"
   ]
  },
  {
   "cell_type": "markdown",
   "id": "9f33ec81-d289-473f-8085-9668b6a3d1c0",
   "metadata": {},
   "source": [
    "## write a program to create a 5*5 zero matrix with elements on the main diagonal = 1,2,3,4,5 . others should be 0"
   ]
  },
  {
   "cell_type": "code",
   "execution_count": 65,
   "id": "1802c210-3097-4067-b1cd-bfc4788b2b77",
   "metadata": {},
   "outputs": [
    {
     "data": {
      "text/plain": [
       "array([[1, 0, 0, 0, 0],\n",
       "       [0, 2, 0, 0, 0],\n",
       "       [0, 0, 3, 0, 0],\n",
       "       [0, 0, 0, 4, 0],\n",
       "       [0, 0, 0, 0, 5]])"
      ]
     },
     "execution_count": 65,
     "metadata": {},
     "output_type": "execute_result"
    }
   ],
   "source": [
    "np.diag([1,2,3,4,5])"
   ]
  },
  {
   "cell_type": "code",
   "execution_count": null,
   "id": "1e7858b4-3e4a-484b-b7c3-d00436c5d667",
   "metadata": {},
   "outputs": [],
   "source": []
  },
  {
   "cell_type": "code",
   "execution_count": null,
   "id": "9feeafa4-aef1-4ca2-a58e-2896bbcfba97",
   "metadata": {},
   "outputs": [],
   "source": []
  }
 ],
 "metadata": {
  "kernelspec": {
   "display_name": "Python 3 (ipykernel)",
   "language": "python",
   "name": "python3"
  },
  "language_info": {
   "codemirror_mode": {
    "name": "ipython",
    "version": 3
   },
   "file_extension": ".py",
   "mimetype": "text/x-python",
   "name": "python",
   "nbconvert_exporter": "python",
   "pygments_lexer": "ipython3",
   "version": "3.12.4"
  }
 },
 "nbformat": 4,
 "nbformat_minor": 5
}
