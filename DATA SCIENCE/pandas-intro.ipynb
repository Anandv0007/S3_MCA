{
 "cells": [
  {
   "cell_type": "code",
   "execution_count": 6,
   "id": "78de789b-c17a-432a-8037-551cca75b8ab",
   "metadata": {},
   "outputs": [],
   "source": [
    "import pandas as pd\n",
    "import numpy as np"
   ]
  },
  {
   "cell_type": "markdown",
   "id": "51e4860e-2811-4dc9-880e-21b0cf2bd399",
   "metadata": {},
   "source": [
    "## Datatypes"
   ]
  },
  {
   "cell_type": "markdown",
   "id": "1d568f84-94df-4173-bf97-67090fb68f43",
   "metadata": {},
   "source": [
    "Series - can be indexed by a labels, can hold any type of data(including python object), lists, dictionaries etcc..can be converted into series\n",
    "\n",
    "Numpy array\n"
   ]
  },
  {
   "cell_type": "code",
   "execution_count": 20,
   "id": "ccad22ae-906d-4d2f-ba2c-0e1a0897c973",
   "metadata": {},
   "outputs": [
    {
     "data": {
      "text/plain": [
       "0    a\n",
       "1    b\n",
       "2    c\n",
       "3    d\n",
       "dtype: object"
      ]
     },
     "execution_count": 20,
     "metadata": {},
     "output_type": "execute_result"
    }
   ],
   "source": [
    "labels = ['a','b','c','d']\n",
    "list1 = [1,2,3,4]\n",
    "\n",
    "# create an array a\n",
    "a = np.array([40,50,60])\n",
    "\n",
    "# create a dictionary\n",
    "d = {'a':10,'b':20,'c':30}\n",
    "\n",
    "# convert into series\n",
    "s = pd.Series(data=labels) # used to create 1D dataset\n",
    "s"
   ]
  },
  {
   "cell_type": "code",
   "execution_count": 22,
   "id": "3c3d42fe-ad02-408c-8d51-b433ece59899",
   "metadata": {},
   "outputs": [
    {
     "data": {
      "text/plain": [
       "0      <built-in function sum>\n",
       "1    <built-in function print>\n",
       "2      <built-in function len>\n",
       "dtype: object"
      ]
     },
     "execution_count": 22,
     "metadata": {},
     "output_type": "execute_result"
    }
   ],
   "source": [
    "pd.Series([sum,print,len])"
   ]
  },
  {
   "cell_type": "code",
   "execution_count": 24,
   "id": "4d918a55-d211-4261-b879-6273250c8edb",
   "metadata": {},
   "outputs": [
    {
     "data": {
      "text/plain": [
       "0    40\n",
       "1    50\n",
       "2    60\n",
       "dtype: int32"
      ]
     },
     "execution_count": 24,
     "metadata": {},
     "output_type": "execute_result"
    }
   ],
   "source": [
    "pd.Series(data=a)"
   ]
  },
  {
   "cell_type": "code",
   "execution_count": 26,
   "id": "8d8dfbfc-1d07-49b9-a981-6c9db725d4a9",
   "metadata": {},
   "outputs": [
    {
     "data": {
      "text/plain": [
       "a    10\n",
       "b    20\n",
       "c    30\n",
       "dtype: int64"
      ]
     },
     "execution_count": 26,
     "metadata": {},
     "output_type": "execute_result"
    }
   ],
   "source": [
    "pd.Series(data=d)"
   ]
  },
  {
   "cell_type": "code",
   "execution_count": 34,
   "id": "4606fcc8-a039-40d3-a60a-ff9eb2603ea1",
   "metadata": {},
   "outputs": [
    {
     "data": {
      "text/html": [
       "<div>\n",
       "<style scoped>\n",
       "    .dataframe tbody tr th:only-of-type {\n",
       "        vertical-align: middle;\n",
       "    }\n",
       "\n",
       "    .dataframe tbody tr th {\n",
       "        vertical-align: top;\n",
       "    }\n",
       "\n",
       "    .dataframe thead th {\n",
       "        text-align: right;\n",
       "    }\n",
       "</style>\n",
       "<table border=\"1\" class=\"dataframe\">\n",
       "  <thead>\n",
       "    <tr style=\"text-align: right;\">\n",
       "      <th></th>\n",
       "      <th>Cars</th>\n",
       "      <th>Color</th>\n",
       "    </tr>\n",
       "  </thead>\n",
       "  <tbody>\n",
       "    <tr>\n",
       "      <th>0</th>\n",
       "      <td>BMW</td>\n",
       "      <td>Black</td>\n",
       "    </tr>\n",
       "    <tr>\n",
       "      <th>1</th>\n",
       "      <td>Toyota</td>\n",
       "      <td>White</td>\n",
       "    </tr>\n",
       "    <tr>\n",
       "      <th>2</th>\n",
       "      <td>Volkswagon</td>\n",
       "      <td>Red</td>\n",
       "    </tr>\n",
       "  </tbody>\n",
       "</table>\n",
       "</div>"
      ],
      "text/plain": [
       "         Cars  Color\n",
       "0         BMW  Black\n",
       "1      Toyota  White\n",
       "2  Volkswagon    Red"
      ]
     },
     "execution_count": 34,
     "metadata": {},
     "output_type": "execute_result"
    }
   ],
   "source": [
    "myDataset = {'Cars':['BMW','Toyota','Volkswagon'], 'Color':['Black','White','Red']}\n",
    "pd.DataFrame(myDataset) # function used to create 2D dataset"
   ]
  },
  {
   "cell_type": "code",
   "execution_count": 38,
   "id": "1e2954b0-6536-48af-b105-22976789c6cc",
   "metadata": {},
   "outputs": [
    {
     "data": {
      "text/plain": [
       "Apple        Red\n",
       "Banana    Yellow\n",
       "Mango     Orange\n",
       "dtype: object"
      ]
     },
     "execution_count": 38,
     "metadata": {},
     "output_type": "execute_result"
    }
   ],
   "source": [
    "# Create a list of fruits with colors, make label as color\n",
    "fruits = {'Apple':'Red', 'Banana':'Yellow', 'Mango':'Orange'}\n",
    "pd.Series(fruits)"
   ]
  },
  {
   "cell_type": "code",
   "execution_count": 40,
   "id": "3f52b7ac-cfba-4cfb-9964-ef1799f0800e",
   "metadata": {},
   "outputs": [
    {
     "data": {
      "text/html": [
       "<div>\n",
       "<style scoped>\n",
       "    .dataframe tbody tr th:only-of-type {\n",
       "        vertical-align: middle;\n",
       "    }\n",
       "\n",
       "    .dataframe tbody tr th {\n",
       "        vertical-align: top;\n",
       "    }\n",
       "\n",
       "    .dataframe thead th {\n",
       "        text-align: right;\n",
       "    }\n",
       "</style>\n",
       "<table border=\"1\" class=\"dataframe\">\n",
       "  <thead>\n",
       "    <tr style=\"text-align: right;\">\n",
       "      <th></th>\n",
       "      <th>Fruits</th>\n",
       "      <th>Color</th>\n",
       "    </tr>\n",
       "  </thead>\n",
       "  <tbody>\n",
       "    <tr>\n",
       "      <th>0</th>\n",
       "      <td>Apple</td>\n",
       "      <td>Red</td>\n",
       "    </tr>\n",
       "    <tr>\n",
       "      <th>1</th>\n",
       "      <td>Banana</td>\n",
       "      <td>Yellow</td>\n",
       "    </tr>\n",
       "    <tr>\n",
       "      <th>2</th>\n",
       "      <td>Mango</td>\n",
       "      <td>Orange</td>\n",
       "    </tr>\n",
       "  </tbody>\n",
       "</table>\n",
       "</div>"
      ],
      "text/plain": [
       "   Fruits   Color\n",
       "0   Apple     Red\n",
       "1  Banana  Yellow\n",
       "2   Mango  Orange"
      ]
     },
     "execution_count": 40,
     "metadata": {},
     "output_type": "execute_result"
    }
   ],
   "source": [
    "# Create a 2D dataset with fruits and colors\n",
    "myFruits = {'Fruits':['Apple','Banana','Mango'], 'Color':['Red','Yellow','Orange']}\n",
    "pd.DataFrame(myFruits)"
   ]
  },
  {
   "cell_type": "code",
   "execution_count": 42,
   "id": "95cc2769-4261-4708-b946-0923abc430d4",
   "metadata": {},
   "outputs": [
    {
     "data": {
      "text/plain": [
       "a    1\n",
       "b    2\n",
       "c    3\n",
       "d    4\n",
       "dtype: int64"
      ]
     },
     "execution_count": 42,
     "metadata": {},
     "output_type": "execute_result"
    }
   ],
   "source": [
    "pd.Series([1,2,3,4], index=['a','b','c','d'])"
   ]
  },
  {
   "cell_type": "markdown",
   "id": "a570a314-b67e-4c47-9a59-a9dae066233e",
   "metadata": {},
   "source": [
    "random is used to generate pseudorandom numbers, that value is known as seed value\n",
    "\n",
    "seed() - used to save the state of random function so that it can generate some random numbers on multiple execution of code\n",
    "\n",
    "seed() is used to initialize the random number generator"
   ]
  },
  {
   "cell_type": "code",
   "execution_count": 150,
   "id": "5b09c63a-fbe7-45c7-9f1d-9039b0eba6b6",
   "metadata": {},
   "outputs": [
    {
     "name": "stdout",
     "output_type": "stream",
     "text": [
      "first 79\n",
      "second 90\n"
     ]
    }
   ],
   "source": [
    "import random\n",
    "random.seed(40)\n",
    "print('first', random.randint(50,100))\n",
    "random.seed(42)\n",
    "print('second', random.randint(50,100))"
   ]
  },
  {
   "cell_type": "code",
   "execution_count": 189,
   "id": "2a167614-834e-4cac-8a98-25374fb7dbd4",
   "metadata": {},
   "outputs": [
    {
     "name": "stdout",
     "output_type": "stream",
     "text": [
      "0.4745706786885481\n",
      "0.6574725026572553\n"
     ]
    }
   ],
   "source": [
    "random.seed(12)\n",
    "print(random.random())\n",
    "print(random.random())"
   ]
  },
  {
   "cell_type": "code",
   "execution_count": 230,
   "id": "6835f121-13c0-4328-9cdb-8e7259e647c2",
   "metadata": {},
   "outputs": [
    {
     "data": {
      "text/html": [
       "<div>\n",
       "<style scoped>\n",
       "    .dataframe tbody tr th:only-of-type {\n",
       "        vertical-align: middle;\n",
       "    }\n",
       "\n",
       "    .dataframe tbody tr th {\n",
       "        vertical-align: top;\n",
       "    }\n",
       "\n",
       "    .dataframe thead th {\n",
       "        text-align: right;\n",
       "    }\n",
       "</style>\n",
       "<table border=\"1\" class=\"dataframe\">\n",
       "  <thead>\n",
       "    <tr style=\"text-align: right;\">\n",
       "      <th></th>\n",
       "      <th>p</th>\n",
       "      <th>q</th>\n",
       "      <th>r</th>\n",
       "      <th>s</th>\n",
       "    </tr>\n",
       "  </thead>\n",
       "  <tbody>\n",
       "    <tr>\n",
       "      <th>a</th>\n",
       "      <td>0.809181</td>\n",
       "      <td>0.105876</td>\n",
       "      <td>0.692341</td>\n",
       "      <td>0.788162</td>\n",
       "    </tr>\n",
       "    <tr>\n",
       "      <th>b</th>\n",
       "      <td>0.219890</td>\n",
       "      <td>0.962809</td>\n",
       "      <td>0.309159</td>\n",
       "      <td>0.823706</td>\n",
       "    </tr>\n",
       "    <tr>\n",
       "      <th>c</th>\n",
       "      <td>0.326303</td>\n",
       "      <td>0.558941</td>\n",
       "      <td>0.287834</td>\n",
       "      <td>0.768637</td>\n",
       "    </tr>\n",
       "    <tr>\n",
       "      <th>d</th>\n",
       "      <td>0.310146</td>\n",
       "      <td>0.511984</td>\n",
       "      <td>0.464965</td>\n",
       "      <td>0.869728</td>\n",
       "    </tr>\n",
       "    <tr>\n",
       "      <th>e</th>\n",
       "      <td>0.887031</td>\n",
       "      <td>0.548955</td>\n",
       "      <td>0.847463</td>\n",
       "      <td>0.688794</td>\n",
       "    </tr>\n",
       "  </tbody>\n",
       "</table>\n",
       "</div>"
      ],
      "text/plain": [
       "          p         q         r         s\n",
       "a  0.809181  0.105876  0.692341  0.788162\n",
       "b  0.219890  0.962809  0.309159  0.823706\n",
       "c  0.326303  0.558941  0.287834  0.768637\n",
       "d  0.310146  0.511984  0.464965  0.869728\n",
       "e  0.887031  0.548955  0.847463  0.688794"
      ]
     },
     "execution_count": 230,
     "metadata": {},
     "output_type": "execute_result"
    }
   ],
   "source": [
    "\n",
    "df = pd.DataFrame(np.random.rand(5,4),index='a b c d e'.split(),columns='p q r s'.split())\n",
    "df"
   ]
  },
  {
   "cell_type": "code",
   "execution_count": 232,
   "id": "80fbfdf0-c907-421b-b1e4-42055874173c",
   "metadata": {},
   "outputs": [
    {
     "name": "stdout",
     "output_type": "stream",
     "text": [
      "a    0.809181\n",
      "b    0.219890\n",
      "c    0.326303\n",
      "d    0.310146\n",
      "e    0.887031\n",
      "Name: p, dtype: float64\n"
     ]
    }
   ],
   "source": [
    "print(df['p'])"
   ]
  },
  {
   "cell_type": "code",
   "execution_count": 236,
   "id": "ba7bebfb-84c0-4333-8548-f6ddc8dac726",
   "metadata": {},
   "outputs": [
    {
     "data": {
      "text/html": [
       "<div>\n",
       "<style scoped>\n",
       "    .dataframe tbody tr th:only-of-type {\n",
       "        vertical-align: middle;\n",
       "    }\n",
       "\n",
       "    .dataframe tbody tr th {\n",
       "        vertical-align: top;\n",
       "    }\n",
       "\n",
       "    .dataframe thead th {\n",
       "        text-align: right;\n",
       "    }\n",
       "</style>\n",
       "<table border=\"1\" class=\"dataframe\">\n",
       "  <thead>\n",
       "    <tr style=\"text-align: right;\">\n",
       "      <th></th>\n",
       "      <th>r</th>\n",
       "      <th>s</th>\n",
       "    </tr>\n",
       "  </thead>\n",
       "  <tbody>\n",
       "    <tr>\n",
       "      <th>a</th>\n",
       "      <td>0.692341</td>\n",
       "      <td>0.788162</td>\n",
       "    </tr>\n",
       "    <tr>\n",
       "      <th>b</th>\n",
       "      <td>0.309159</td>\n",
       "      <td>0.823706</td>\n",
       "    </tr>\n",
       "    <tr>\n",
       "      <th>c</th>\n",
       "      <td>0.287834</td>\n",
       "      <td>0.768637</td>\n",
       "    </tr>\n",
       "    <tr>\n",
       "      <th>d</th>\n",
       "      <td>0.464965</td>\n",
       "      <td>0.869728</td>\n",
       "    </tr>\n",
       "    <tr>\n",
       "      <th>e</th>\n",
       "      <td>0.847463</td>\n",
       "      <td>0.688794</td>\n",
       "    </tr>\n",
       "  </tbody>\n",
       "</table>\n",
       "</div>"
      ],
      "text/plain": [
       "          r         s\n",
       "a  0.692341  0.788162\n",
       "b  0.309159  0.823706\n",
       "c  0.287834  0.768637\n",
       "d  0.464965  0.869728\n",
       "e  0.847463  0.688794"
      ]
     },
     "execution_count": 236,
     "metadata": {},
     "output_type": "execute_result"
    }
   ],
   "source": [
    "df[['r','s']]"
   ]
  },
  {
   "cell_type": "code",
   "execution_count": 240,
   "id": "f2cb16d5-518d-4aa3-9992-fe8f372325db",
   "metadata": {},
   "outputs": [
    {
     "data": {
      "text/plain": [
       "pandas.core.series.Series"
      ]
     },
     "execution_count": 240,
     "metadata": {},
     "output_type": "execute_result"
    }
   ],
   "source": [
    "type(df['p'])"
   ]
  },
  {
   "cell_type": "code",
   "execution_count": 248,
   "id": "96c88864-e5b9-42df-8ce8-9a88ce13516f",
   "metadata": {},
   "outputs": [
    {
     "data": {
      "text/html": [
       "<div>\n",
       "<style scoped>\n",
       "    .dataframe tbody tr th:only-of-type {\n",
       "        vertical-align: middle;\n",
       "    }\n",
       "\n",
       "    .dataframe tbody tr th {\n",
       "        vertical-align: top;\n",
       "    }\n",
       "\n",
       "    .dataframe thead th {\n",
       "        text-align: right;\n",
       "    }\n",
       "</style>\n",
       "<table border=\"1\" class=\"dataframe\">\n",
       "  <thead>\n",
       "    <tr style=\"text-align: right;\">\n",
       "      <th></th>\n",
       "      <th>p</th>\n",
       "      <th>q</th>\n",
       "      <th>r</th>\n",
       "      <th>s</th>\n",
       "      <th>t</th>\n",
       "    </tr>\n",
       "  </thead>\n",
       "  <tbody>\n",
       "    <tr>\n",
       "      <th>a</th>\n",
       "      <td>0.809181</td>\n",
       "      <td>0.105876</td>\n",
       "      <td>0.692341</td>\n",
       "      <td>0.788162</td>\n",
       "      <td>0.165789</td>\n",
       "    </tr>\n",
       "    <tr>\n",
       "      <th>b</th>\n",
       "      <td>0.219890</td>\n",
       "      <td>0.962809</td>\n",
       "      <td>0.309159</td>\n",
       "      <td>0.823706</td>\n",
       "      <td>0.165789</td>\n",
       "    </tr>\n",
       "    <tr>\n",
       "      <th>c</th>\n",
       "      <td>0.326303</td>\n",
       "      <td>0.558941</td>\n",
       "      <td>0.287834</td>\n",
       "      <td>0.768637</td>\n",
       "      <td>0.165789</td>\n",
       "    </tr>\n",
       "    <tr>\n",
       "      <th>d</th>\n",
       "      <td>0.310146</td>\n",
       "      <td>0.511984</td>\n",
       "      <td>0.464965</td>\n",
       "      <td>0.869728</td>\n",
       "      <td>0.165789</td>\n",
       "    </tr>\n",
       "    <tr>\n",
       "      <th>e</th>\n",
       "      <td>0.887031</td>\n",
       "      <td>0.548955</td>\n",
       "      <td>0.847463</td>\n",
       "      <td>0.688794</td>\n",
       "      <td>0.165789</td>\n",
       "    </tr>\n",
       "  </tbody>\n",
       "</table>\n",
       "</div>"
      ],
      "text/plain": [
       "          p         q         r         s         t\n",
       "a  0.809181  0.105876  0.692341  0.788162  0.165789\n",
       "b  0.219890  0.962809  0.309159  0.823706  0.165789\n",
       "c  0.326303  0.558941  0.287834  0.768637  0.165789\n",
       "d  0.310146  0.511984  0.464965  0.869728  0.165789\n",
       "e  0.887031  0.548955  0.847463  0.688794  0.165789"
      ]
     },
     "execution_count": 248,
     "metadata": {},
     "output_type": "execute_result"
    }
   ],
   "source": [
    "df['t']=np.random.rand()\n",
    "df"
   ]
  },
  {
   "cell_type": "code",
   "execution_count": 254,
   "id": "074d7ddd-c650-47a4-828c-4e8642ba3427",
   "metadata": {},
   "outputs": [
    {
     "data": {
      "text/html": [
       "<div>\n",
       "<style scoped>\n",
       "    .dataframe tbody tr th:only-of-type {\n",
       "        vertical-align: middle;\n",
       "    }\n",
       "\n",
       "    .dataframe tbody tr th {\n",
       "        vertical-align: top;\n",
       "    }\n",
       "\n",
       "    .dataframe thead th {\n",
       "        text-align: right;\n",
       "    }\n",
       "</style>\n",
       "<table border=\"1\" class=\"dataframe\">\n",
       "  <thead>\n",
       "    <tr style=\"text-align: right;\">\n",
       "      <th></th>\n",
       "      <th>p</th>\n",
       "      <th>q</th>\n",
       "      <th>r</th>\n",
       "      <th>s</th>\n",
       "    </tr>\n",
       "  </thead>\n",
       "  <tbody>\n",
       "    <tr>\n",
       "      <th>a</th>\n",
       "      <td>0.809181</td>\n",
       "      <td>0.105876</td>\n",
       "      <td>0.692341</td>\n",
       "      <td>0.788162</td>\n",
       "    </tr>\n",
       "    <tr>\n",
       "      <th>b</th>\n",
       "      <td>0.219890</td>\n",
       "      <td>0.962809</td>\n",
       "      <td>0.309159</td>\n",
       "      <td>0.823706</td>\n",
       "    </tr>\n",
       "    <tr>\n",
       "      <th>c</th>\n",
       "      <td>0.326303</td>\n",
       "      <td>0.558941</td>\n",
       "      <td>0.287834</td>\n",
       "      <td>0.768637</td>\n",
       "    </tr>\n",
       "    <tr>\n",
       "      <th>d</th>\n",
       "      <td>0.310146</td>\n",
       "      <td>0.511984</td>\n",
       "      <td>0.464965</td>\n",
       "      <td>0.869728</td>\n",
       "    </tr>\n",
       "    <tr>\n",
       "      <th>e</th>\n",
       "      <td>0.887031</td>\n",
       "      <td>0.548955</td>\n",
       "      <td>0.847463</td>\n",
       "      <td>0.688794</td>\n",
       "    </tr>\n",
       "  </tbody>\n",
       "</table>\n",
       "</div>"
      ],
      "text/plain": [
       "          p         q         r         s\n",
       "a  0.809181  0.105876  0.692341  0.788162\n",
       "b  0.219890  0.962809  0.309159  0.823706\n",
       "c  0.326303  0.558941  0.287834  0.768637\n",
       "d  0.310146  0.511984  0.464965  0.869728\n",
       "e  0.887031  0.548955  0.847463  0.688794"
      ]
     },
     "execution_count": 254,
     "metadata": {},
     "output_type": "execute_result"
    }
   ],
   "source": [
    "df.drop('t',axis=1) # drop column"
   ]
  },
  {
   "cell_type": "code",
   "execution_count": 256,
   "id": "3710057c-9206-408a-9882-480fa18ab9d5",
   "metadata": {},
   "outputs": [
    {
     "data": {
      "text/html": [
       "<div>\n",
       "<style scoped>\n",
       "    .dataframe tbody tr th:only-of-type {\n",
       "        vertical-align: middle;\n",
       "    }\n",
       "\n",
       "    .dataframe tbody tr th {\n",
       "        vertical-align: top;\n",
       "    }\n",
       "\n",
       "    .dataframe thead th {\n",
       "        text-align: right;\n",
       "    }\n",
       "</style>\n",
       "<table border=\"1\" class=\"dataframe\">\n",
       "  <thead>\n",
       "    <tr style=\"text-align: right;\">\n",
       "      <th></th>\n",
       "      <th>p</th>\n",
       "      <th>q</th>\n",
       "      <th>r</th>\n",
       "      <th>s</th>\n",
       "      <th>t</th>\n",
       "    </tr>\n",
       "  </thead>\n",
       "  <tbody>\n",
       "    <tr>\n",
       "      <th>a</th>\n",
       "      <td>0.809181</td>\n",
       "      <td>0.105876</td>\n",
       "      <td>0.692341</td>\n",
       "      <td>0.788162</td>\n",
       "      <td>0.165789</td>\n",
       "    </tr>\n",
       "    <tr>\n",
       "      <th>b</th>\n",
       "      <td>0.219890</td>\n",
       "      <td>0.962809</td>\n",
       "      <td>0.309159</td>\n",
       "      <td>0.823706</td>\n",
       "      <td>0.165789</td>\n",
       "    </tr>\n",
       "    <tr>\n",
       "      <th>c</th>\n",
       "      <td>0.326303</td>\n",
       "      <td>0.558941</td>\n",
       "      <td>0.287834</td>\n",
       "      <td>0.768637</td>\n",
       "      <td>0.165789</td>\n",
       "    </tr>\n",
       "    <tr>\n",
       "      <th>d</th>\n",
       "      <td>0.310146</td>\n",
       "      <td>0.511984</td>\n",
       "      <td>0.464965</td>\n",
       "      <td>0.869728</td>\n",
       "      <td>0.165789</td>\n",
       "    </tr>\n",
       "  </tbody>\n",
       "</table>\n",
       "</div>"
      ],
      "text/plain": [
       "          p         q         r         s         t\n",
       "a  0.809181  0.105876  0.692341  0.788162  0.165789\n",
       "b  0.219890  0.962809  0.309159  0.823706  0.165789\n",
       "c  0.326303  0.558941  0.287834  0.768637  0.165789\n",
       "d  0.310146  0.511984  0.464965  0.869728  0.165789"
      ]
     },
     "execution_count": 256,
     "metadata": {},
     "output_type": "execute_result"
    }
   ],
   "source": [
    "df.drop('e', axis=0) # drop row"
   ]
  },
  {
   "cell_type": "code",
   "execution_count": 272,
   "id": "ad622c15-6252-45d7-a591-110038718fd8",
   "metadata": {},
   "outputs": [
    {
     "data": {
      "text/plain": [
       "p    0.809181\n",
       "q    0.105876\n",
       "r    0.692341\n",
       "s    0.788162\n",
       "t    0.165789\n",
       "Name: a, dtype: float64"
      ]
     },
     "execution_count": 272,
     "metadata": {},
     "output_type": "execute_result"
    }
   ],
   "source": [
    "# select a'th row\n",
    "df.loc['a'] # select a row using label"
   ]
  },
  {
   "cell_type": "code",
   "execution_count": 278,
   "id": "cd6dfb97-d013-444e-a468-35a67ef2ed8d",
   "metadata": {},
   "outputs": [
    {
     "data": {
      "text/plain": [
       "p    0.326303\n",
       "q    0.558941\n",
       "r    0.287834\n",
       "s    0.768637\n",
       "t    0.165789\n",
       "Name: c, dtype: float64"
      ]
     },
     "execution_count": 278,
     "metadata": {},
     "output_type": "execute_result"
    }
   ],
   "source": [
    "df.iloc[2] # select a row using index"
   ]
  },
  {
   "cell_type": "code",
   "execution_count": 282,
   "id": "f1830f3a-67a3-4c3d-a2e6-31a7138284b2",
   "metadata": {},
   "outputs": [
    {
     "data": {
      "text/plain": [
       "0.30915853759399403"
      ]
     },
     "execution_count": 282,
     "metadata": {},
     "output_type": "execute_result"
    }
   ],
   "source": [
    "df.loc['b','r'] # selection of a subset"
   ]
  },
  {
   "cell_type": "code",
   "execution_count": 284,
   "id": "1476c204-fc96-4f64-80b3-9322a10836a4",
   "metadata": {},
   "outputs": [
    {
     "data": {
      "text/html": [
       "<div>\n",
       "<style scoped>\n",
       "    .dataframe tbody tr th:only-of-type {\n",
       "        vertical-align: middle;\n",
       "    }\n",
       "\n",
       "    .dataframe tbody tr th {\n",
       "        vertical-align: top;\n",
       "    }\n",
       "\n",
       "    .dataframe thead th {\n",
       "        text-align: right;\n",
       "    }\n",
       "</style>\n",
       "<table border=\"1\" class=\"dataframe\">\n",
       "  <thead>\n",
       "    <tr style=\"text-align: right;\">\n",
       "      <th></th>\n",
       "      <th>r</th>\n",
       "      <th>s</th>\n",
       "    </tr>\n",
       "  </thead>\n",
       "  <tbody>\n",
       "    <tr>\n",
       "      <th>a</th>\n",
       "      <td>0.692341</td>\n",
       "      <td>0.788162</td>\n",
       "    </tr>\n",
       "    <tr>\n",
       "      <th>b</th>\n",
       "      <td>0.309159</td>\n",
       "      <td>0.823706</td>\n",
       "    </tr>\n",
       "  </tbody>\n",
       "</table>\n",
       "</div>"
      ],
      "text/plain": [
       "          r         s\n",
       "a  0.692341  0.788162\n",
       "b  0.309159  0.823706"
      ]
     },
     "execution_count": 284,
     "metadata": {},
     "output_type": "execute_result"
    }
   ],
   "source": [
    "df.loc[['a','b'],['r','s']]"
   ]
  },
  {
   "cell_type": "code",
   "execution_count": 286,
   "id": "84e76ea8-5f85-4d07-9377-a2127df49fdc",
   "metadata": {},
   "outputs": [
    {
     "data": {
      "text/plain": [
       "[('a', 1), ('a', 2), ('a', 3), ('b', 1), ('b', 2), ('b', 3)]"
      ]
     },
     "execution_count": 286,
     "metadata": {},
     "output_type": "execute_result"
    }
   ],
   "source": [
    "a1 = ['a','a','a','b','b','b']\n",
    "a2 = [1,2,3,1,2,3]\n",
    "p = list(zip(a1,a2))\n",
    "p"
   ]
  },
  {
   "cell_type": "code",
   "execution_count": 290,
   "id": "692fca85-6951-4f48-94f4-a828257f9fb8",
   "metadata": {},
   "outputs": [
    {
     "data": {
      "text/html": [
       "<div>\n",
       "<style scoped>\n",
       "    .dataframe tbody tr th:only-of-type {\n",
       "        vertical-align: middle;\n",
       "    }\n",
       "\n",
       "    .dataframe tbody tr th {\n",
       "        vertical-align: top;\n",
       "    }\n",
       "\n",
       "    .dataframe thead th {\n",
       "        text-align: right;\n",
       "    }\n",
       "</style>\n",
       "<table border=\"1\" class=\"dataframe\">\n",
       "  <thead>\n",
       "    <tr style=\"text-align: right;\">\n",
       "      <th></th>\n",
       "      <th>x</th>\n",
       "      <th>y</th>\n",
       "    </tr>\n",
       "  </thead>\n",
       "  <tbody>\n",
       "    <tr>\n",
       "      <th>(a, 1)</th>\n",
       "      <td>0.503662</td>\n",
       "      <td>0.885598</td>\n",
       "    </tr>\n",
       "    <tr>\n",
       "      <th>(a, 2)</th>\n",
       "      <td>0.220489</td>\n",
       "      <td>0.296474</td>\n",
       "    </tr>\n",
       "    <tr>\n",
       "      <th>(a, 3)</th>\n",
       "      <td>0.456373</td>\n",
       "      <td>0.665632</td>\n",
       "    </tr>\n",
       "    <tr>\n",
       "      <th>(b, 1)</th>\n",
       "      <td>0.775611</td>\n",
       "      <td>0.226562</td>\n",
       "    </tr>\n",
       "    <tr>\n",
       "      <th>(b, 2)</th>\n",
       "      <td>0.544918</td>\n",
       "      <td>0.590374</td>\n",
       "    </tr>\n",
       "    <tr>\n",
       "      <th>(b, 3)</th>\n",
       "      <td>0.643172</td>\n",
       "      <td>0.499590</td>\n",
       "    </tr>\n",
       "  </tbody>\n",
       "</table>\n",
       "</div>"
      ],
      "text/plain": [
       "               x         y\n",
       "(a, 1)  0.503662  0.885598\n",
       "(a, 2)  0.220489  0.296474\n",
       "(a, 3)  0.456373  0.665632\n",
       "(b, 1)  0.775611  0.226562\n",
       "(b, 2)  0.544918  0.590374\n",
       "(b, 3)  0.643172  0.499590"
      ]
     },
     "execution_count": 290,
     "metadata": {},
     "output_type": "execute_result"
    }
   ],
   "source": [
    "df = pd.DataFrame(np.random.rand(6,2), index=p, columns=['x','y'])\n",
    "df"
   ]
  },
  {
   "cell_type": "code",
   "execution_count": null,
   "id": "8a758d38-f916-406f-a34b-229232b42039",
   "metadata": {},
   "outputs": [],
   "source": []
  }
 ],
 "metadata": {
  "kernelspec": {
   "display_name": "Python 3 (ipykernel)",
   "language": "python",
   "name": "python3"
  },
  "language_info": {
   "codemirror_mode": {
    "name": "ipython",
    "version": 3
   },
   "file_extension": ".py",
   "mimetype": "text/x-python",
   "name": "python",
   "nbconvert_exporter": "python",
   "pygments_lexer": "ipython3",
   "version": "3.12.4"
  }
 },
 "nbformat": 4,
 "nbformat_minor": 5
}
