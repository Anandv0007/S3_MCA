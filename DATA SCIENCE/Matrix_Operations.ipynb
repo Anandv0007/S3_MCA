{
 "cells": [
  {
   "cell_type": "code",
   "execution_count": 1,
   "id": "f7d2c759-6c5e-4cd4-a8c3-493c7e9ca44d",
   "metadata": {},
   "outputs": [],
   "source": [
    "import numpy as np"
   ]
  },
  {
   "cell_type": "code",
   "execution_count": 5,
   "id": "9a05dc29-b3a0-41fc-b467-448e38dd6ed8",
   "metadata": {},
   "outputs": [
    {
     "data": {
      "text/plain": [
       "array([[1, 2],\n",
       "       [3, 4]])"
      ]
     },
     "execution_count": 5,
     "metadata": {},
     "output_type": "execute_result"
    }
   ],
   "source": [
    "n1 = np.array([[1,2],[3,4]])\n",
    "n1"
   ]
  },
  {
   "cell_type": "code",
   "execution_count": 7,
   "id": "48c4f002-ed33-420b-b5b2-e76787c6d8c9",
   "metadata": {},
   "outputs": [
    {
     "data": {
      "text/plain": [
       "array([[3, 4],\n",
       "       [5, 6]])"
      ]
     },
     "execution_count": 7,
     "metadata": {},
     "output_type": "execute_result"
    }
   ],
   "source": [
    "n2 = np.array([[3,4],[5,6]])\n",
    "n2"
   ]
  },
  {
   "cell_type": "markdown",
   "id": "afe50276-88e7-4093-96dd-00a53376d0f7",
   "metadata": {},
   "source": [
    "### Transpose"
   ]
  },
  {
   "cell_type": "code",
   "execution_count": 10,
   "id": "2f089444-5810-4de8-bc02-818b7516ea46",
   "metadata": {},
   "outputs": [
    {
     "data": {
      "text/plain": [
       "array([[1, 3],\n",
       "       [2, 4]])"
      ]
     },
     "execution_count": 10,
     "metadata": {},
     "output_type": "execute_result"
    }
   ],
   "source": [
    "np.transpose(n1)"
   ]
  },
  {
   "cell_type": "markdown",
   "id": "806b4a0e-8194-4bb7-8409-09f5942384ef",
   "metadata": {},
   "source": [
    "### Dot Operation"
   ]
  },
  {
   "cell_type": "code",
   "execution_count": 13,
   "id": "31b0da90-f003-443a-8c98-d7af42163f90",
   "metadata": {},
   "outputs": [
    {
     "data": {
      "text/plain": [
       "array([[13, 16],\n",
       "       [29, 36]])"
      ]
     },
     "execution_count": 13,
     "metadata": {},
     "output_type": "execute_result"
    }
   ],
   "source": [
    "n1.dot(n2)"
   ]
  },
  {
   "cell_type": "markdown",
   "id": "58b4c6c8-e4ed-4bc0-ac77-11afa1125f62",
   "metadata": {},
   "source": [
    "### Inverse"
   ]
  },
  {
   "cell_type": "code",
   "execution_count": 16,
   "id": "d6e4ceb6-e049-446d-b3e5-fc777a961fde",
   "metadata": {},
   "outputs": [
    {
     "data": {
      "text/plain": [
       "array([[-2. ,  1. ],\n",
       "       [ 1.5, -0.5]])"
      ]
     },
     "execution_count": 16,
     "metadata": {},
     "output_type": "execute_result"
    }
   ],
   "source": [
    "np.linalg.inv(n1)"
   ]
  },
  {
   "cell_type": "markdown",
   "id": "36e9a41b-88db-4fcd-ad0f-dd8ede0d0ac9",
   "metadata": {},
   "source": [
    "### Determinant"
   ]
  },
  {
   "cell_type": "code",
   "execution_count": 19,
   "id": "6b062dae-2c67-4515-a45c-5c708dee4c49",
   "metadata": {},
   "outputs": [
    {
     "data": {
      "text/plain": [
       "-2.0000000000000004"
      ]
     },
     "execution_count": 19,
     "metadata": {},
     "output_type": "execute_result"
    }
   ],
   "source": [
    "np.linalg.det(n2)"
   ]
  },
  {
   "cell_type": "markdown",
   "id": "3751d810-9d47-4131-8308-b2af6ab1de67",
   "metadata": {},
   "source": [
    "### Flatten"
   ]
  },
  {
   "cell_type": "code",
   "execution_count": 22,
   "id": "5934ecea-f4a9-4d69-a161-234b439cf85b",
   "metadata": {},
   "outputs": [
    {
     "data": {
      "text/plain": [
       "array([1, 2, 3, 4])"
      ]
     },
     "execution_count": 22,
     "metadata": {},
     "output_type": "execute_result"
    }
   ],
   "source": [
    "n1.flatten()"
   ]
  },
  {
   "cell_type": "markdown",
   "id": "5e6bbb05-44c5-469c-a8f3-6c54569877aa",
   "metadata": {},
   "source": [
    "### Read matrix from the user"
   ]
  },
  {
   "cell_type": "code",
   "execution_count": 25,
   "id": "1b5b8e2d-0fa1-4344-b13f-389f4ae0b429",
   "metadata": {},
   "outputs": [
    {
     "name": "stdin",
     "output_type": "stream",
     "text": [
      " 1\n",
      " 2\n",
      " 3\n",
      " 4\n"
     ]
    },
    {
     "name": "stdout",
     "output_type": "stream",
     "text": [
      "[[1, 2], [3, 4]]\n"
     ]
    }
   ],
   "source": [
    "matrix = []\n",
    "for i in range(2):\n",
    "    row = []\n",
    "    for j in range(2):\n",
    "        a = int(input())\n",
    "        row.append(a)\n",
    "    matrix.append(row)\n",
    "print(matrix)"
   ]
  },
  {
   "cell_type": "code",
   "execution_count": 34,
   "id": "5178af71-ed66-4ae2-83bf-825fb0f87ac2",
   "metadata": {},
   "outputs": [
    {
     "data": {
      "text/plain": [
       "array([[2, 4],\n",
       "       [3, 5]])"
      ]
     },
     "execution_count": 34,
     "metadata": {},
     "output_type": "execute_result"
    }
   ],
   "source": [
    "np.transpose(matrix)"
   ]
  },
  {
   "cell_type": "markdown",
   "id": "4b094360-7153-4578-b6e6-7f08205e4db7",
   "metadata": {},
   "source": [
    "### Get row size and column size from the user\n",
    "#### Method 1"
   ]
  },
  {
   "cell_type": "code",
   "execution_count": 28,
   "id": "682433ee-e069-450d-9a87-0ed0277a2137",
   "metadata": {},
   "outputs": [
    {
     "name": "stdin",
     "output_type": "stream",
     "text": [
      "Enter row size :  3\n",
      "Enter column size :  2\n",
      " 1\n",
      " 2\n",
      " 3\n",
      " 4\n",
      " 5\n",
      " 6\n"
     ]
    },
    {
     "name": "stdout",
     "output_type": "stream",
     "text": [
      "[[1, 2], [3, 4], [5, 6]]\n"
     ]
    }
   ],
   "source": [
    "m = int(input(\"Enter row size : \"))\n",
    "n = int(input(\"Enter column size : \"))\n",
    "matrix1 = []\n",
    "for i in range(m):\n",
    "    row = []\n",
    "    for j in range(n):\n",
    "        a = int(input())\n",
    "        row.append(a)\n",
    "    matrix1.append(row)\n",
    "print(matrix1)"
   ]
  },
  {
   "cell_type": "markdown",
   "id": "a8a62b59-3e79-4d22-8130-1604a01eb556",
   "metadata": {},
   "source": [
    "### Get row size and column size from the user\n",
    "####  Method 2"
   ]
  },
  {
   "cell_type": "code",
   "execution_count": 32,
   "id": "4e391b03-775d-42c5-9fa5-a6f368fe768f",
   "metadata": {},
   "outputs": [
    {
     "name": "stdin",
     "output_type": "stream",
     "text": [
      " 1 2 3 4 5 6\n"
     ]
    },
    {
     "data": {
      "text/plain": [
       "array([[1, 2],\n",
       "       [3, 4],\n",
       "       [5, 6]])"
      ]
     },
     "execution_count": 32,
     "metadata": {},
     "output_type": "execute_result"
    }
   ],
   "source": [
    "a = list(map(int, input().split()))\n",
    "mat = np.array(a).reshape(m,n)\n",
    "mat"
   ]
  },
  {
   "cell_type": "markdown",
   "id": "ce9a30f2-d778-4a63-9e3c-919049d8464d",
   "metadata": {},
   "source": [
    "### Trace"
   ]
  },
  {
   "cell_type": "code",
   "execution_count": 30,
   "id": "5bf8682d-04d1-498a-bfd4-0f5668446c1c",
   "metadata": {},
   "outputs": [
    {
     "data": {
      "text/plain": [
       "5"
      ]
     },
     "execution_count": 30,
     "metadata": {},
     "output_type": "execute_result"
    }
   ],
   "source": [
    "n1.trace()"
   ]
  },
  {
   "cell_type": "code",
   "execution_count": 47,
   "id": "dee92ec8-817d-4553-ad99-4ad70f038d22",
   "metadata": {},
   "outputs": [
    {
     "data": {
      "text/plain": [
       "2"
      ]
     },
     "execution_count": 47,
     "metadata": {},
     "output_type": "execute_result"
    }
   ],
   "source": [
    "np.linalg.matrix_rank(n1)"
   ]
  },
  {
   "cell_type": "code",
   "execution_count": 51,
   "id": "79320ce0-9586-4f87-b863-846173b3b20f",
   "metadata": {},
   "outputs": [
    {
     "data": {
      "text/plain": [
       "EigResult(eigenvalues=array([-0.37228132,  5.37228132]), eigenvectors=array([[-0.82456484, -0.41597356],\n",
       "       [ 0.56576746, -0.90937671]]))"
      ]
     },
     "execution_count": 51,
     "metadata": {},
     "output_type": "execute_result"
    }
   ],
   "source": [
    "np.linalg.eig(n1)"
   ]
  }
 ],
 "metadata": {
  "kernelspec": {
   "display_name": "Python 3 (ipykernel)",
   "language": "python",
   "name": "python3"
  },
  "language_info": {
   "codemirror_mode": {
    "name": "ipython",
    "version": 3
   },
   "file_extension": ".py",
   "mimetype": "text/x-python",
   "name": "python",
   "nbconvert_exporter": "python",
   "pygments_lexer": "ipython3",
   "version": "3.12.4"
  }
 },
 "nbformat": 4,
 "nbformat_minor": 5
}
