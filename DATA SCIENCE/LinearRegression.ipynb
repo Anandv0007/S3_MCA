{
 "cells": [
  {
   "cell_type": "code",
   "execution_count": 65,
   "id": "f01b8362-0434-44b0-bcfe-5619ab7a1647",
   "metadata": {},
   "outputs": [],
   "source": [
    "import numpy as np\n",
    "from sklearn.model_selection import train_test_split\n",
    "from sklearn.linear_model import LinearRegression\n",
    "from sklearn.metrics import mean_absolute_error,r2_score,mean_squared_error\n",
    "import matplotlib.pyplot as plt"
   ]
  },
  {
   "cell_type": "markdown",
   "id": "0e15721d-34c2-4845-bb21-73881ebf0a31",
   "metadata": {},
   "source": [
    "r2_score - it is a regression score function to evaluate the performance of the linear regression model(it is R-Sqaured called coefficient of determination). \n",
    "It is the amount of variable in the output dependent attribute(y) from the input independent variable(X).\n",
    "\n",
    "$r^{2}$ = 1-$SS_{res}$/$SS_{tot}$\n",
    "\n",
    "\n",
    "the best possible score r2_score=1 it can be negative $r^{2}$ is called as coefficient of matrix.\n"
   ]
  },
  {
   "cell_type": "code",
   "execution_count": 13,
   "id": "1cba36c3-87ac-460e-9102-e65ebb94a500",
   "metadata": {},
   "outputs": [],
   "source": [
    "np.random.seed(42)"
   ]
  },
  {
   "cell_type": "code",
   "execution_count": 54,
   "id": "477980fb-22f3-45ed-865c-1eeea815a5bb",
   "metadata": {},
   "outputs": [],
   "source": [
    "X = 2*np.random.rand(100,1)\n",
    "y = 4+3*X+np.random.rand(100,1) #y=mx+c+noises"
   ]
  },
  {
   "cell_type": "code",
   "execution_count": 55,
   "id": "875e59f0-4c86-4c21-baf5-dbbb9a185e76",
   "metadata": {},
   "outputs": [],
   "source": [
    "X_train, X_test, y_train, y_test = train_test_split(X, y, test_size=0.2,random_state=42)"
   ]
  },
  {
   "cell_type": "code",
   "execution_count": 56,
   "id": "6466a1d1-225d-457e-aa50-e89cc0ec10d0",
   "metadata": {},
   "outputs": [
    {
     "data": {
      "text/plain": [
       "(100, 1)"
      ]
     },
     "execution_count": 56,
     "metadata": {},
     "output_type": "execute_result"
    }
   ],
   "source": [
    "X.shape\n"
   ]
  },
  {
   "cell_type": "code",
   "execution_count": 57,
   "id": "ea3e8816-7335-4261-849c-bdacb673b6d3",
   "metadata": {},
   "outputs": [
    {
     "data": {
      "text/plain": [
       "(80, 1)"
      ]
     },
     "execution_count": 57,
     "metadata": {},
     "output_type": "execute_result"
    }
   ],
   "source": [
    "X_train.shape"
   ]
  },
  {
   "cell_type": "code",
   "execution_count": 58,
   "id": "59e08ab6-e1d3-487b-a0e0-188960d14afe",
   "metadata": {},
   "outputs": [
    {
     "data": {
      "text/plain": [
       "(20, 1)"
      ]
     },
     "execution_count": 58,
     "metadata": {},
     "output_type": "execute_result"
    }
   ],
   "source": [
    "X_test.shape"
   ]
  },
  {
   "cell_type": "code",
   "execution_count": 59,
   "id": "495b29f7-4e46-4028-98de-dee9b14bd96a",
   "metadata": {},
   "outputs": [],
   "source": [
    "reg = LinearRegression()"
   ]
  },
  {
   "cell_type": "code",
   "execution_count": 60,
   "id": "50536349-952b-4302-a843-0b1431d3a46f",
   "metadata": {},
   "outputs": [
    {
     "data": {
      "text/html": [
       "<style>#sk-container-id-3 {\n",
       "  /* Definition of color scheme common for light and dark mode */\n",
       "  --sklearn-color-text: black;\n",
       "  --sklearn-color-line: gray;\n",
       "  /* Definition of color scheme for unfitted estimators */\n",
       "  --sklearn-color-unfitted-level-0: #fff5e6;\n",
       "  --sklearn-color-unfitted-level-1: #f6e4d2;\n",
       "  --sklearn-color-unfitted-level-2: #ffe0b3;\n",
       "  --sklearn-color-unfitted-level-3: chocolate;\n",
       "  /* Definition of color scheme for fitted estimators */\n",
       "  --sklearn-color-fitted-level-0: #f0f8ff;\n",
       "  --sklearn-color-fitted-level-1: #d4ebff;\n",
       "  --sklearn-color-fitted-level-2: #b3dbfd;\n",
       "  --sklearn-color-fitted-level-3: cornflowerblue;\n",
       "\n",
       "  /* Specific color for light theme */\n",
       "  --sklearn-color-text-on-default-background: var(--sg-text-color, var(--theme-code-foreground, var(--jp-content-font-color1, black)));\n",
       "  --sklearn-color-background: var(--sg-background-color, var(--theme-background, var(--jp-layout-color0, white)));\n",
       "  --sklearn-color-border-box: var(--sg-text-color, var(--theme-code-foreground, var(--jp-content-font-color1, black)));\n",
       "  --sklearn-color-icon: #696969;\n",
       "\n",
       "  @media (prefers-color-scheme: dark) {\n",
       "    /* Redefinition of color scheme for dark theme */\n",
       "    --sklearn-color-text-on-default-background: var(--sg-text-color, var(--theme-code-foreground, var(--jp-content-font-color1, white)));\n",
       "    --sklearn-color-background: var(--sg-background-color, var(--theme-background, var(--jp-layout-color0, #111)));\n",
       "    --sklearn-color-border-box: var(--sg-text-color, var(--theme-code-foreground, var(--jp-content-font-color1, white)));\n",
       "    --sklearn-color-icon: #878787;\n",
       "  }\n",
       "}\n",
       "\n",
       "#sk-container-id-3 {\n",
       "  color: var(--sklearn-color-text);\n",
       "}\n",
       "\n",
       "#sk-container-id-3 pre {\n",
       "  padding: 0;\n",
       "}\n",
       "\n",
       "#sk-container-id-3 input.sk-hidden--visually {\n",
       "  border: 0;\n",
       "  clip: rect(1px 1px 1px 1px);\n",
       "  clip: rect(1px, 1px, 1px, 1px);\n",
       "  height: 1px;\n",
       "  margin: -1px;\n",
       "  overflow: hidden;\n",
       "  padding: 0;\n",
       "  position: absolute;\n",
       "  width: 1px;\n",
       "}\n",
       "\n",
       "#sk-container-id-3 div.sk-dashed-wrapped {\n",
       "  border: 1px dashed var(--sklearn-color-line);\n",
       "  margin: 0 0.4em 0.5em 0.4em;\n",
       "  box-sizing: border-box;\n",
       "  padding-bottom: 0.4em;\n",
       "  background-color: var(--sklearn-color-background);\n",
       "}\n",
       "\n",
       "#sk-container-id-3 div.sk-container {\n",
       "  /* jupyter's `normalize.less` sets `[hidden] { display: none; }`\n",
       "     but bootstrap.min.css set `[hidden] { display: none !important; }`\n",
       "     so we also need the `!important` here to be able to override the\n",
       "     default hidden behavior on the sphinx rendered scikit-learn.org.\n",
       "     See: https://github.com/scikit-learn/scikit-learn/issues/21755 */\n",
       "  display: inline-block !important;\n",
       "  position: relative;\n",
       "}\n",
       "\n",
       "#sk-container-id-3 div.sk-text-repr-fallback {\n",
       "  display: none;\n",
       "}\n",
       "\n",
       "div.sk-parallel-item,\n",
       "div.sk-serial,\n",
       "div.sk-item {\n",
       "  /* draw centered vertical line to link estimators */\n",
       "  background-image: linear-gradient(var(--sklearn-color-text-on-default-background), var(--sklearn-color-text-on-default-background));\n",
       "  background-size: 2px 100%;\n",
       "  background-repeat: no-repeat;\n",
       "  background-position: center center;\n",
       "}\n",
       "\n",
       "/* Parallel-specific style estimator block */\n",
       "\n",
       "#sk-container-id-3 div.sk-parallel-item::after {\n",
       "  content: \"\";\n",
       "  width: 100%;\n",
       "  border-bottom: 2px solid var(--sklearn-color-text-on-default-background);\n",
       "  flex-grow: 1;\n",
       "}\n",
       "\n",
       "#sk-container-id-3 div.sk-parallel {\n",
       "  display: flex;\n",
       "  align-items: stretch;\n",
       "  justify-content: center;\n",
       "  background-color: var(--sklearn-color-background);\n",
       "  position: relative;\n",
       "}\n",
       "\n",
       "#sk-container-id-3 div.sk-parallel-item {\n",
       "  display: flex;\n",
       "  flex-direction: column;\n",
       "}\n",
       "\n",
       "#sk-container-id-3 div.sk-parallel-item:first-child::after {\n",
       "  align-self: flex-end;\n",
       "  width: 50%;\n",
       "}\n",
       "\n",
       "#sk-container-id-3 div.sk-parallel-item:last-child::after {\n",
       "  align-self: flex-start;\n",
       "  width: 50%;\n",
       "}\n",
       "\n",
       "#sk-container-id-3 div.sk-parallel-item:only-child::after {\n",
       "  width: 0;\n",
       "}\n",
       "\n",
       "/* Serial-specific style estimator block */\n",
       "\n",
       "#sk-container-id-3 div.sk-serial {\n",
       "  display: flex;\n",
       "  flex-direction: column;\n",
       "  align-items: center;\n",
       "  background-color: var(--sklearn-color-background);\n",
       "  padding-right: 1em;\n",
       "  padding-left: 1em;\n",
       "}\n",
       "\n",
       "\n",
       "/* Toggleable style: style used for estimator/Pipeline/ColumnTransformer box that is\n",
       "clickable and can be expanded/collapsed.\n",
       "- Pipeline and ColumnTransformer use this feature and define the default style\n",
       "- Estimators will overwrite some part of the style using the `sk-estimator` class\n",
       "*/\n",
       "\n",
       "/* Pipeline and ColumnTransformer style (default) */\n",
       "\n",
       "#sk-container-id-3 div.sk-toggleable {\n",
       "  /* Default theme specific background. It is overwritten whether we have a\n",
       "  specific estimator or a Pipeline/ColumnTransformer */\n",
       "  background-color: var(--sklearn-color-background);\n",
       "}\n",
       "\n",
       "/* Toggleable label */\n",
       "#sk-container-id-3 label.sk-toggleable__label {\n",
       "  cursor: pointer;\n",
       "  display: block;\n",
       "  width: 100%;\n",
       "  margin-bottom: 0;\n",
       "  padding: 0.5em;\n",
       "  box-sizing: border-box;\n",
       "  text-align: center;\n",
       "}\n",
       "\n",
       "#sk-container-id-3 label.sk-toggleable__label-arrow:before {\n",
       "  /* Arrow on the left of the label */\n",
       "  content: \"▸\";\n",
       "  float: left;\n",
       "  margin-right: 0.25em;\n",
       "  color: var(--sklearn-color-icon);\n",
       "}\n",
       "\n",
       "#sk-container-id-3 label.sk-toggleable__label-arrow:hover:before {\n",
       "  color: var(--sklearn-color-text);\n",
       "}\n",
       "\n",
       "/* Toggleable content - dropdown */\n",
       "\n",
       "#sk-container-id-3 div.sk-toggleable__content {\n",
       "  max-height: 0;\n",
       "  max-width: 0;\n",
       "  overflow: hidden;\n",
       "  text-align: left;\n",
       "  /* unfitted */\n",
       "  background-color: var(--sklearn-color-unfitted-level-0);\n",
       "}\n",
       "\n",
       "#sk-container-id-3 div.sk-toggleable__content.fitted {\n",
       "  /* fitted */\n",
       "  background-color: var(--sklearn-color-fitted-level-0);\n",
       "}\n",
       "\n",
       "#sk-container-id-3 div.sk-toggleable__content pre {\n",
       "  margin: 0.2em;\n",
       "  border-radius: 0.25em;\n",
       "  color: var(--sklearn-color-text);\n",
       "  /* unfitted */\n",
       "  background-color: var(--sklearn-color-unfitted-level-0);\n",
       "}\n",
       "\n",
       "#sk-container-id-3 div.sk-toggleable__content.fitted pre {\n",
       "  /* unfitted */\n",
       "  background-color: var(--sklearn-color-fitted-level-0);\n",
       "}\n",
       "\n",
       "#sk-container-id-3 input.sk-toggleable__control:checked~div.sk-toggleable__content {\n",
       "  /* Expand drop-down */\n",
       "  max-height: 200px;\n",
       "  max-width: 100%;\n",
       "  overflow: auto;\n",
       "}\n",
       "\n",
       "#sk-container-id-3 input.sk-toggleable__control:checked~label.sk-toggleable__label-arrow:before {\n",
       "  content: \"▾\";\n",
       "}\n",
       "\n",
       "/* Pipeline/ColumnTransformer-specific style */\n",
       "\n",
       "#sk-container-id-3 div.sk-label input.sk-toggleable__control:checked~label.sk-toggleable__label {\n",
       "  color: var(--sklearn-color-text);\n",
       "  background-color: var(--sklearn-color-unfitted-level-2);\n",
       "}\n",
       "\n",
       "#sk-container-id-3 div.sk-label.fitted input.sk-toggleable__control:checked~label.sk-toggleable__label {\n",
       "  background-color: var(--sklearn-color-fitted-level-2);\n",
       "}\n",
       "\n",
       "/* Estimator-specific style */\n",
       "\n",
       "/* Colorize estimator box */\n",
       "#sk-container-id-3 div.sk-estimator input.sk-toggleable__control:checked~label.sk-toggleable__label {\n",
       "  /* unfitted */\n",
       "  background-color: var(--sklearn-color-unfitted-level-2);\n",
       "}\n",
       "\n",
       "#sk-container-id-3 div.sk-estimator.fitted input.sk-toggleable__control:checked~label.sk-toggleable__label {\n",
       "  /* fitted */\n",
       "  background-color: var(--sklearn-color-fitted-level-2);\n",
       "}\n",
       "\n",
       "#sk-container-id-3 div.sk-label label.sk-toggleable__label,\n",
       "#sk-container-id-3 div.sk-label label {\n",
       "  /* The background is the default theme color */\n",
       "  color: var(--sklearn-color-text-on-default-background);\n",
       "}\n",
       "\n",
       "/* On hover, darken the color of the background */\n",
       "#sk-container-id-3 div.sk-label:hover label.sk-toggleable__label {\n",
       "  color: var(--sklearn-color-text);\n",
       "  background-color: var(--sklearn-color-unfitted-level-2);\n",
       "}\n",
       "\n",
       "/* Label box, darken color on hover, fitted */\n",
       "#sk-container-id-3 div.sk-label.fitted:hover label.sk-toggleable__label.fitted {\n",
       "  color: var(--sklearn-color-text);\n",
       "  background-color: var(--sklearn-color-fitted-level-2);\n",
       "}\n",
       "\n",
       "/* Estimator label */\n",
       "\n",
       "#sk-container-id-3 div.sk-label label {\n",
       "  font-family: monospace;\n",
       "  font-weight: bold;\n",
       "  display: inline-block;\n",
       "  line-height: 1.2em;\n",
       "}\n",
       "\n",
       "#sk-container-id-3 div.sk-label-container {\n",
       "  text-align: center;\n",
       "}\n",
       "\n",
       "/* Estimator-specific */\n",
       "#sk-container-id-3 div.sk-estimator {\n",
       "  font-family: monospace;\n",
       "  border: 1px dotted var(--sklearn-color-border-box);\n",
       "  border-radius: 0.25em;\n",
       "  box-sizing: border-box;\n",
       "  margin-bottom: 0.5em;\n",
       "  /* unfitted */\n",
       "  background-color: var(--sklearn-color-unfitted-level-0);\n",
       "}\n",
       "\n",
       "#sk-container-id-3 div.sk-estimator.fitted {\n",
       "  /* fitted */\n",
       "  background-color: var(--sklearn-color-fitted-level-0);\n",
       "}\n",
       "\n",
       "/* on hover */\n",
       "#sk-container-id-3 div.sk-estimator:hover {\n",
       "  /* unfitted */\n",
       "  background-color: var(--sklearn-color-unfitted-level-2);\n",
       "}\n",
       "\n",
       "#sk-container-id-3 div.sk-estimator.fitted:hover {\n",
       "  /* fitted */\n",
       "  background-color: var(--sklearn-color-fitted-level-2);\n",
       "}\n",
       "\n",
       "/* Specification for estimator info (e.g. \"i\" and \"?\") */\n",
       "\n",
       "/* Common style for \"i\" and \"?\" */\n",
       "\n",
       ".sk-estimator-doc-link,\n",
       "a:link.sk-estimator-doc-link,\n",
       "a:visited.sk-estimator-doc-link {\n",
       "  float: right;\n",
       "  font-size: smaller;\n",
       "  line-height: 1em;\n",
       "  font-family: monospace;\n",
       "  background-color: var(--sklearn-color-background);\n",
       "  border-radius: 1em;\n",
       "  height: 1em;\n",
       "  width: 1em;\n",
       "  text-decoration: none !important;\n",
       "  margin-left: 1ex;\n",
       "  /* unfitted */\n",
       "  border: var(--sklearn-color-unfitted-level-1) 1pt solid;\n",
       "  color: var(--sklearn-color-unfitted-level-1);\n",
       "}\n",
       "\n",
       ".sk-estimator-doc-link.fitted,\n",
       "a:link.sk-estimator-doc-link.fitted,\n",
       "a:visited.sk-estimator-doc-link.fitted {\n",
       "  /* fitted */\n",
       "  border: var(--sklearn-color-fitted-level-1) 1pt solid;\n",
       "  color: var(--sklearn-color-fitted-level-1);\n",
       "}\n",
       "\n",
       "/* On hover */\n",
       "div.sk-estimator:hover .sk-estimator-doc-link:hover,\n",
       ".sk-estimator-doc-link:hover,\n",
       "div.sk-label-container:hover .sk-estimator-doc-link:hover,\n",
       ".sk-estimator-doc-link:hover {\n",
       "  /* unfitted */\n",
       "  background-color: var(--sklearn-color-unfitted-level-3);\n",
       "  color: var(--sklearn-color-background);\n",
       "  text-decoration: none;\n",
       "}\n",
       "\n",
       "div.sk-estimator.fitted:hover .sk-estimator-doc-link.fitted:hover,\n",
       ".sk-estimator-doc-link.fitted:hover,\n",
       "div.sk-label-container:hover .sk-estimator-doc-link.fitted:hover,\n",
       ".sk-estimator-doc-link.fitted:hover {\n",
       "  /* fitted */\n",
       "  background-color: var(--sklearn-color-fitted-level-3);\n",
       "  color: var(--sklearn-color-background);\n",
       "  text-decoration: none;\n",
       "}\n",
       "\n",
       "/* Span, style for the box shown on hovering the info icon */\n",
       ".sk-estimator-doc-link span {\n",
       "  display: none;\n",
       "  z-index: 9999;\n",
       "  position: relative;\n",
       "  font-weight: normal;\n",
       "  right: .2ex;\n",
       "  padding: .5ex;\n",
       "  margin: .5ex;\n",
       "  width: min-content;\n",
       "  min-width: 20ex;\n",
       "  max-width: 50ex;\n",
       "  color: var(--sklearn-color-text);\n",
       "  box-shadow: 2pt 2pt 4pt #999;\n",
       "  /* unfitted */\n",
       "  background: var(--sklearn-color-unfitted-level-0);\n",
       "  border: .5pt solid var(--sklearn-color-unfitted-level-3);\n",
       "}\n",
       "\n",
       ".sk-estimator-doc-link.fitted span {\n",
       "  /* fitted */\n",
       "  background: var(--sklearn-color-fitted-level-0);\n",
       "  border: var(--sklearn-color-fitted-level-3);\n",
       "}\n",
       "\n",
       ".sk-estimator-doc-link:hover span {\n",
       "  display: block;\n",
       "}\n",
       "\n",
       "/* \"?\"-specific style due to the `<a>` HTML tag */\n",
       "\n",
       "#sk-container-id-3 a.estimator_doc_link {\n",
       "  float: right;\n",
       "  font-size: 1rem;\n",
       "  line-height: 1em;\n",
       "  font-family: monospace;\n",
       "  background-color: var(--sklearn-color-background);\n",
       "  border-radius: 1rem;\n",
       "  height: 1rem;\n",
       "  width: 1rem;\n",
       "  text-decoration: none;\n",
       "  /* unfitted */\n",
       "  color: var(--sklearn-color-unfitted-level-1);\n",
       "  border: var(--sklearn-color-unfitted-level-1) 1pt solid;\n",
       "}\n",
       "\n",
       "#sk-container-id-3 a.estimator_doc_link.fitted {\n",
       "  /* fitted */\n",
       "  border: var(--sklearn-color-fitted-level-1) 1pt solid;\n",
       "  color: var(--sklearn-color-fitted-level-1);\n",
       "}\n",
       "\n",
       "/* On hover */\n",
       "#sk-container-id-3 a.estimator_doc_link:hover {\n",
       "  /* unfitted */\n",
       "  background-color: var(--sklearn-color-unfitted-level-3);\n",
       "  color: var(--sklearn-color-background);\n",
       "  text-decoration: none;\n",
       "}\n",
       "\n",
       "#sk-container-id-3 a.estimator_doc_link.fitted:hover {\n",
       "  /* fitted */\n",
       "  background-color: var(--sklearn-color-fitted-level-3);\n",
       "}\n",
       "</style><div id=\"sk-container-id-3\" class=\"sk-top-container\"><div class=\"sk-text-repr-fallback\"><pre>LinearRegression()</pre><b>In a Jupyter environment, please rerun this cell to show the HTML representation or trust the notebook. <br />On GitHub, the HTML representation is unable to render, please try loading this page with nbviewer.org.</b></div><div class=\"sk-container\" hidden><div class=\"sk-item\"><div class=\"sk-estimator fitted sk-toggleable\"><input class=\"sk-toggleable__control sk-hidden--visually\" id=\"sk-estimator-id-3\" type=\"checkbox\" checked><label for=\"sk-estimator-id-3\" class=\"sk-toggleable__label fitted sk-toggleable__label-arrow fitted\">&nbsp;&nbsp;LinearRegression<a class=\"sk-estimator-doc-link fitted\" rel=\"noreferrer\" target=\"_blank\" href=\"https://scikit-learn.org/1.4/modules/generated/sklearn.linear_model.LinearRegression.html\">?<span>Documentation for LinearRegression</span></a><span class=\"sk-estimator-doc-link fitted\">i<span>Fitted</span></span></label><div class=\"sk-toggleable__content fitted\"><pre>LinearRegression()</pre></div> </div></div></div></div>"
      ],
      "text/plain": [
       "LinearRegression()"
      ]
     },
     "execution_count": 60,
     "metadata": {},
     "output_type": "execute_result"
    }
   ],
   "source": [
    "reg.fit(X_train, y_train)"
   ]
  },
  {
   "cell_type": "code",
   "execution_count": 61,
   "id": "ba6f29af-a3ab-4486-8393-d258edd1acc6",
   "metadata": {},
   "outputs": [],
   "source": [
    "y_preds = reg.predict(X_test)"
   ]
  },
  {
   "cell_type": "code",
   "execution_count": 62,
   "id": "eabe2859-b6a8-4a93-9368-acd95ffc9236",
   "metadata": {},
   "outputs": [
    {
     "data": {
      "text/plain": [
       "0.07579140824354971"
      ]
     },
     "execution_count": 62,
     "metadata": {},
     "output_type": "execute_result"
    }
   ],
   "source": [
    "mean_squared_error(y_test, y_preds)"
   ]
  },
  {
   "cell_type": "code",
   "execution_count": 63,
   "id": "7f0c8e4e-2855-4e09-8b48-f841107a76a1",
   "metadata": {},
   "outputs": [
    {
     "data": {
      "text/plain": [
       "0.2425512021727955"
      ]
     },
     "execution_count": 63,
     "metadata": {},
     "output_type": "execute_result"
    }
   ],
   "source": [
    "mean_absolute_error(y_test, y_preds)"
   ]
  },
  {
   "cell_type": "code",
   "execution_count": 64,
   "id": "90c38af9-4e57-4480-b79c-ade5453ebe4d",
   "metadata": {},
   "outputs": [
    {
     "data": {
      "text/plain": [
       "0.9726305226655989"
      ]
     },
     "execution_count": 64,
     "metadata": {},
     "output_type": "execute_result"
    }
   ],
   "source": [
    "r2_score(y_test, y_preds)"
   ]
  },
  {
   "cell_type": "code",
   "execution_count": 82,
   "id": "628e8ce6-954c-4cd9-9e74-c327787a59be",
   "metadata": {},
   "outputs": [
    {
     "data": {
      "image/png": "[encoded data removed]",
      "text/plain": [
       "<Figure size 640x480 with 1 Axes>"
      ]
     },
     "metadata": {},
     "output_type": "display_data"
    }
   ],
   "source": [
    "plt.scatter(X,y,c=\"green\", marker='o', label='Data Point')\n",
    "plt.xlabel(\"X\")\n",
    "plt.ylabel(\"Y\")\n",
    "plt.legend()\n",
    "plt.show()"
   ]
  },
  {
   "cell_type": "code",
   "execution_count": 77,
   "id": "814a5f30-6952-4ed7-9857-5b4cd2699918",
   "metadata": {},
   "outputs": [
    {
     "data": {
      "image/png": "[encoded data removed]",
      "text/plain": [
       "<Figure size 640x480 with 1 Axes>"
      ]
     },
     "metadata": {},
     "output_type": "display_data"
    }
   ],
   "source": [
    "plt.plot(y_test, y_preds, c=\"blue\")\n",
    "plt.xlabel(\"Y Test\")\n",
    "plt.ylabel(\"Y Prediction\")\n",
    "plt.show()"
   ]
  },
  {
   "cell_type": "code",
   "execution_count": 85,
   "id": "60eeadf2-c797-4775-ae23-47fdfdf9e668",
   "metadata": {},
   "outputs": [
    {
     "name": "stdin",
     "output_type": "stream",
     "text": [
      "Enter a value 3\n"
     ]
    },
    {
     "ename": "TypeError",
     "evalue": "'builtin_function_or_method' object is not subscriptable",
     "output_type": "error",
     "traceback": [
      "\u001b[1;31m---------------------------------------------------------------------------\u001b[0m",
      "\u001b[1;31mTypeError\u001b[0m                                 Traceback (most recent call last)",
      "Cell \u001b[1;32mIn[85], line 2\u001b[0m\n\u001b[0;32m      1\u001b[0m n \u001b[38;5;241m=\u001b[39m \u001b[38;5;28minput\u001b[39m(\u001b[38;5;124m\"\u001b[39m\u001b[38;5;124mEnter a value\u001b[39m\u001b[38;5;124m\"\u001b[39m)\n\u001b[1;32m----> 2\u001b[0m n_reshape \u001b[38;5;241m=\u001b[39m np\u001b[38;5;241m.\u001b[39marray[[n]]\n\u001b[0;32m      3\u001b[0m n_reshape\n",
      "\u001b[1;31mTypeError\u001b[0m: 'builtin_function_or_method' object is not subscriptable"
     ]
    }
   ],
   "source": [
    "n = input(\"Enter a value\")\n",
    "n_reshape = np.array[[n]]\n",
    "n_reshape"
   ]
  },
  {
   "cell_type": "code",
   "execution_count": null,
   "id": "cfcfe935-9b24-4dda-90b8-10c80bf484bf",
   "metadata": {},
   "outputs": [],
   "source": [
    "n_predict = "
   ]
  },
  {
   "cell_type": "code",
   "execution_count": 86,
   "id": "5a179b44-4339-4a16-a9a4-e9a12a1916f4",
   "metadata": {},
   "outputs": [],
   "source": [
    "from sklearn.cluster import KMeans"
   ]
  },
  {
   "cell_type": "code",
   "execution_count": 87,
   "id": "c3d9009b-f8e2-485d-8c09-ce1c1c4f0884",
   "metadata": {},
   "outputs": [],
   "source": [
    "from sklearn.datasets import make_blobs"
   ]
  },
  {
   "cell_type": "markdown",
   "id": "d163e8a1-eec7-4fc2-b330-3c430213a6b9",
   "metadata": {},
   "source": [
    "make_blobs - function used to make sample dataset"
   ]
  },
  {
   "cell_type": "code",
   "execution_count": 88,
   "id": "130df414-a65c-4281-8a0c-e52d7289aafa",
   "metadata": {},
   "outputs": [],
   "source": [
    "data,_ = make_blobs(n_samples = 300)"
   ]
  },
  {
   "cell_type": "code",
   "execution_count": 89,
   "id": "69bea914-590f-4f6a-97ec-06e9fd8cc879",
   "metadata": {},
   "outputs": [
    {
     "data": {
      "text/plain": [
       "array([[ 2.30556398e+00, -9.31331003e+00],\n",
       "       [ 9.01633842e-01, -8.52053131e+00],\n",
       "       [ 1.40760956e+00, -1.01477612e+01],\n",
       "       [ 5.08550646e+00, -8.48296463e+00],\n",
       "       [ 4.27319406e+00, -5.51846625e+00],\n",
       "       [ 6.52415544e+00, -1.09562649e+01],\n",
       "       [ 6.53012395e+00, -7.89808909e+00],\n",
       "       [ 5.00333325e+00, -5.75307309e+00],\n",
       "       [ 5.62354529e+00, -9.31796851e+00],\n",
       "       [ 4.89596690e+00, -6.33890725e+00],\n",
       "       [ 6.33742379e+00, -5.02417339e+00],\n",
       "       [ 6.01330392e+00, -1.10423049e+01],\n",
       "       [ 4.56573952e+00, -1.11244058e+01],\n",
       "       [ 5.57044530e+00, -8.80458577e+00],\n",
       "       [ 4.97375271e+00, -1.01370195e+01],\n",
       "       [ 4.68448701e+00, -9.38430618e+00],\n",
       "       [ 5.62963386e+00, -9.53503056e+00],\n",
       "       [ 4.67109029e+00, -9.20092800e+00],\n",
       "       [ 5.57057643e+00, -5.75565260e+00],\n",
       "       [ 5.34619478e+00, -7.35484390e+00],\n",
       "       [ 4.91488272e+00, -5.95968912e+00],\n",
       "       [ 4.91588113e+00, -6.76747743e+00],\n",
       "       [-1.27840215e+00, -1.09051384e+01],\n",
       "       [ 5.26341765e+00, -7.59872186e+00],\n",
       "       [ 1.92515031e+00, -9.34867416e+00],\n",
       "       [ 6.01975710e+00, -1.09100835e+01],\n",
       "       [ 4.12941612e+00, -7.88284052e+00],\n",
       "       [ 5.43579808e+00, -5.30517321e+00],\n",
       "       [ 5.97073246e+00, -5.72714988e+00],\n",
       "       [ 8.58051391e-01, -9.52804222e+00],\n",
       "       [ 5.08236669e+00, -8.34089835e+00],\n",
       "       [ 4.60737783e+00, -8.93226938e+00],\n",
       "       [ 5.73977392e+00, -6.81751901e+00],\n",
       "       [ 2.66331399e-01, -9.89878219e+00],\n",
       "       [ 1.25299126e+00, -8.57781019e+00],\n",
       "       [ 4.79051298e+00, -9.98619388e+00],\n",
       "       [ 6.25236140e+00, -8.16706776e+00],\n",
       "       [ 4.82318222e-01, -9.42663347e+00],\n",
       "       [ 6.18493781e-01, -1.14901108e+01],\n",
       "       [ 5.73292100e+00, -9.55331958e+00],\n",
       "       [ 1.00184960e+00, -1.00171552e+01],\n",
       "       [ 5.09127769e+00, -1.11756219e+01],\n",
       "       [ 5.87952729e+00, -4.33480597e+00],\n",
       "       [ 1.23912707e-02, -1.28167582e+01],\n",
       "       [ 4.90076126e+00, -1.00897988e+01],\n",
       "       [ 6.83203583e+00, -8.39693359e+00],\n",
       "       [ 9.63582134e-01, -9.47587529e+00],\n",
       "       [ 5.55272676e+00, -5.44954432e+00],\n",
       "       [ 4.12884877e+00, -9.70458719e+00],\n",
       "       [ 1.19780069e+00, -1.13336857e+01],\n",
       "       [ 1.38328319e+00, -1.06471988e+01],\n",
       "       [ 2.62664024e+00, -7.88931484e+00],\n",
       "       [ 5.05968240e+00, -8.62243282e+00],\n",
       "       [ 5.29524884e+00, -1.08957387e+01],\n",
       "       [ 5.88007314e+00, -4.71425807e+00],\n",
       "       [ 5.20039559e+00, -9.59695268e+00],\n",
       "       [ 1.66416346e+00, -9.56961141e+00],\n",
       "       [ 4.65016081e+00, -7.95425116e+00],\n",
       "       [ 4.71976737e+00, -4.81661870e+00],\n",
       "       [ 6.58172686e-01, -8.74696202e+00],\n",
       "       [ 3.63862450e+00, -8.39873459e+00],\n",
       "       [ 5.12433507e+00, -6.44202498e+00],\n",
       "       [ 4.71733723e+00, -6.10166208e+00],\n",
       "       [ 5.39103342e+00, -5.44491864e+00],\n",
       "       [ 4.35250763e+00, -6.15961067e+00],\n",
       "       [ 3.34464273e+00, -9.17874682e+00],\n",
       "       [ 1.96764006e+00, -9.97324493e+00],\n",
       "       [ 4.43845478e+00, -5.07599962e+00],\n",
       "       [ 2.57721885e+00, -1.01665313e+01],\n",
       "       [ 4.75160869e+00, -6.69529144e+00],\n",
       "       [ 8.61448435e-02, -9.59361583e+00],\n",
       "       [ 1.85061056e+00, -8.66847451e+00],\n",
       "       [ 5.20282684e-01, -9.71085643e+00],\n",
       "       [ 4.80737351e+00, -5.50267187e+00],\n",
       "       [ 4.99634922e+00, -9.64308970e+00],\n",
       "       [ 2.06547696e-01, -1.07222881e+01],\n",
       "       [ 2.21367545e-02, -9.46710063e+00],\n",
       "       [ 4.44083631e+00, -5.96484107e+00],\n",
       "       [ 5.47559510e+00, -6.24586911e+00],\n",
       "       [ 4.28795843e+00, -5.08799532e+00],\n",
       "       [ 4.28437650e+00, -8.20779079e+00],\n",
       "       [ 2.74578950e+00, -1.03525040e+01],\n",
       "       [ 1.20720060e+00, -8.27072927e+00],\n",
       "       [ 7.49754951e-01, -1.02990562e+01],\n",
       "       [ 4.11411053e+00, -9.50869393e+00],\n",
       "       [ 4.21996252e+00, -6.35967123e+00],\n",
       "       [ 4.47734461e+00, -1.06137954e+01],\n",
       "       [ 5.18380260e+00, -6.29358107e+00],\n",
       "       [ 6.17295183e+00, -9.00664874e+00],\n",
       "       [ 5.58710251e+00, -7.45558922e+00],\n",
       "       [ 5.34302001e+00, -8.74228753e+00],\n",
       "       [ 3.14705520e+00, -1.09629406e+01],\n",
       "       [ 4.88826990e+00, -5.67022764e+00],\n",
       "       [ 2.27191633e+00, -7.30584409e+00],\n",
       "       [ 3.67707962e-01, -1.17619443e+01],\n",
       "       [-5.71588315e-02, -1.00890672e+01],\n",
       "       [ 1.27891458e+00, -1.02485740e+01],\n",
       "       [ 5.30514050e+00, -6.05361055e+00],\n",
       "       [ 6.37208387e-01, -8.61439137e+00],\n",
       "       [ 4.99495922e+00, -9.94377548e+00],\n",
       "       [ 4.51140843e+00, -1.08074873e+01],\n",
       "       [ 4.25655917e+00, -6.25411483e+00],\n",
       "       [ 4.38566104e-01, -1.06945997e+01],\n",
       "       [ 5.97488556e+00, -3.19072876e+00],\n",
       "       [ 1.87879496e+00, -1.11496972e+01],\n",
       "       [ 6.92772134e-01, -1.08178179e+01],\n",
       "       [ 5.30225495e+00, -1.07513244e+01],\n",
       "       [ 4.91178092e+00, -8.51411237e+00],\n",
       "       [ 5.18003800e+00, -6.53314745e+00],\n",
       "       [ 9.04050369e-01, -6.70230016e+00],\n",
       "       [ 5.55179553e+00, -9.10327322e+00],\n",
       "       [ 4.73675415e+00, -9.14697989e+00],\n",
       "       [ 3.71509483e+00, -8.53371694e+00],\n",
       "       [ 5.37967159e+00, -1.03214480e+01],\n",
       "       [ 1.55096027e+00, -9.93104921e+00],\n",
       "       [ 1.15238579e+00, -9.04263405e+00],\n",
       "       [ 5.22272619e+00, -6.34203736e+00],\n",
       "       [ 5.73372305e+00, -9.11419112e+00],\n",
       "       [ 5.50823238e+00, -8.89077743e+00],\n",
       "       [ 4.10507213e+00, -5.52632775e+00],\n",
       "       [ 5.80650900e+00, -9.76867656e+00],\n",
       "       [ 5.50310307e+00, -9.55267787e+00],\n",
       "       [ 5.30709162e+00, -6.45935242e+00],\n",
       "       [ 5.71508518e+00, -5.19609747e+00],\n",
       "       [ 6.61228050e+00, -9.54381942e+00],\n",
       "       [ 2.40164535e+00, -1.00134763e+01],\n",
       "       [-3.33835450e-01, -1.16562165e+01],\n",
       "       [-1.03732462e+00, -1.05032297e+01],\n",
       "       [ 4.97460828e+00, -5.67301186e+00],\n",
       "       [ 6.19501283e+00, -8.79267873e+00],\n",
       "       [ 1.56926310e+00, -1.07417644e+01],\n",
       "       [ 8.97386018e-01, -8.90967773e+00],\n",
       "       [ 1.10532399e+00, -1.06234107e+01],\n",
       "       [ 9.84376206e-01, -1.00990815e+01],\n",
       "       [ 4.12689190e+00, -6.57123639e+00],\n",
       "       [ 5.86780070e+00, -5.43730338e+00],\n",
       "       [ 3.30711579e+00, -6.71311358e+00],\n",
       "       [ 7.55901900e+00, -7.45335913e+00],\n",
       "       [ 1.70368454e+00, -7.83791226e+00],\n",
       "       [ 9.14345660e-01, -1.03486358e+01],\n",
       "       [ 4.88815440e+00, -6.83226345e+00],\n",
       "       [ 4.04077541e+00, -8.10609351e+00],\n",
       "       [ 4.60804611e+00, -9.33080970e+00],\n",
       "       [ 2.38438813e+00, -6.23639302e+00],\n",
       "       [ 1.30921501e+00, -8.96281690e+00],\n",
       "       [ 5.85453667e+00, -8.18407306e+00],\n",
       "       [ 4.29702376e+00, -6.26646165e+00],\n",
       "       [-4.78015574e-01, -1.04244604e+01],\n",
       "       [ 3.23123746e+00, -6.75625886e+00],\n",
       "       [ 4.31901436e+00, -4.57595070e+00],\n",
       "       [ 3.49938706e-01, -1.07056602e+01],\n",
       "       [ 1.89516350e+00, -5.76653925e+00],\n",
       "       [ 3.02106099e+00, -5.73709509e+00],\n",
       "       [ 2.38152483e+00, -9.91827579e+00],\n",
       "       [ 7.92719014e-01, -1.14585985e+01],\n",
       "       [ 5.12122707e+00, -9.27492328e+00],\n",
       "       [ 3.14603386e+00, -8.68704150e+00],\n",
       "       [ 1.10874974e+00, -8.48318717e+00],\n",
       "       [ 6.22039752e+00, -9.96439311e+00],\n",
       "       [ 5.47028012e+00, -5.86080812e+00],\n",
       "       [ 7.12323507e-01, -8.80665911e+00],\n",
       "       [ 2.96911659e+00, -8.35216420e+00],\n",
       "       [ 4.75519790e+00, -9.09261325e+00],\n",
       "       [ 5.92802962e+00, -9.06055677e+00],\n",
       "       [ 4.02617837e+00, -8.37461873e+00],\n",
       "       [ 4.00894335e+00, -6.60415514e+00],\n",
       "       [ 6.03434583e-02, -8.04131516e+00],\n",
       "       [ 5.74415050e+00, -6.14421494e+00],\n",
       "       [-8.53865531e-02, -1.27676699e+01],\n",
       "       [ 6.85977973e+00, -8.55164541e+00],\n",
       "       [ 5.50850883e+00, -9.03345106e+00],\n",
       "       [ 8.52280503e-02, -1.04001827e+01],\n",
       "       [ 1.26097184e+00, -1.02624356e+01],\n",
       "       [ 5.11536598e+00, -9.46259462e+00],\n",
       "       [ 6.98875832e+00, -6.86977339e+00],\n",
       "       [ 4.39058726e+00, -5.79803392e+00],\n",
       "       [ 5.61163006e+00, -6.28420829e+00],\n",
       "       [ 5.16841532e+00, -5.48269562e+00],\n",
       "       [ 2.81149413e+00, -1.02950439e+01],\n",
       "       [ 5.00868496e+00, -1.02809524e+01],\n",
       "       [ 5.95862568e+00, -8.67840542e+00],\n",
       "       [ 4.40980450e-01, -8.86544691e+00],\n",
       "       [ 3.84193263e+00, -5.71114193e+00],\n",
       "       [ 8.45598183e-01, -1.02622321e+01],\n",
       "       [ 3.72075065e+00, -5.80744570e+00],\n",
       "       [ 5.53898971e+00, -7.95332246e+00],\n",
       "       [ 3.11361792e+00, -6.49306260e+00],\n",
       "       [ 6.17012279e+00, -7.58315953e+00],\n",
       "       [ 1.52109009e+00, -8.99147289e+00],\n",
       "       [ 1.82137418e+00, -1.01767353e+01],\n",
       "       [ 5.32672137e-01, -7.33720844e+00],\n",
       "       [ 2.95782806e+00, -8.81535966e+00],\n",
       "       [ 5.43301183e+00, -1.00457422e+01],\n",
       "       [-5.30601533e-01, -8.73066837e+00],\n",
       "       [ 2.77900144e+00, -2.81264026e+00],\n",
       "       [ 5.46095990e+00, -5.94396653e+00],\n",
       "       [ 5.08718145e+00, -1.02683022e+01],\n",
       "       [ 1.06316299e+00, -1.06426194e+01],\n",
       "       [ 2.93537584e+00, -5.20247854e+00],\n",
       "       [ 3.14164319e+00, -4.68846730e+00],\n",
       "       [ 4.68385176e+00, -8.48571510e+00],\n",
       "       [ 2.56940062e-01, -9.80926385e+00],\n",
       "       [-4.41126032e-01, -8.63282363e+00],\n",
       "       [ 6.64719065e+00, -3.71908865e+00],\n",
       "       [ 1.51334678e+00, -9.20230212e+00],\n",
       "       [ 1.05701538e+00, -8.12315613e+00],\n",
       "       [ 6.00046198e+00, -5.85240564e+00],\n",
       "       [ 4.29246207e+00, -9.05540392e+00],\n",
       "       [ 5.28986736e+00, -8.13189460e+00],\n",
       "       [ 3.94301892e+00, -7.33000696e+00],\n",
       "       [ 5.72179825e+00, -6.92393500e+00],\n",
       "       [ 4.74653184e+00, -6.42247937e+00],\n",
       "       [ 6.18927240e+00, -8.86657854e+00],\n",
       "       [ 4.95128455e+00, -1.01849651e+01],\n",
       "       [ 4.07608899e+00, -9.18521320e+00],\n",
       "       [ 5.95680861e-01, -1.10150252e+01],\n",
       "       [ 3.68032678e+00, -6.54285306e+00],\n",
       "       [ 6.48552304e+00, -1.01599477e+01],\n",
       "       [ 7.79877174e-02, -8.75552917e+00],\n",
       "       [ 4.31611334e+00, -8.96941362e+00],\n",
       "       [ 4.47828976e+00, -6.05999860e+00],\n",
       "       [ 5.38846987e+00, -8.85183225e+00],\n",
       "       [ 4.09225572e+00, -4.82935813e+00],\n",
       "       [ 4.91060612e+00, -1.00459293e+01],\n",
       "       [ 3.04714565e+00, -8.44635122e+00],\n",
       "       [ 1.00488889e+00, -9.44303593e+00],\n",
       "       [ 4.14553330e+00, -6.89029190e+00],\n",
       "       [ 1.42301413e+00, -1.01908091e+01],\n",
       "       [ 4.57358789e+00, -7.51846201e+00],\n",
       "       [ 5.92926702e+00, -9.72925927e+00],\n",
       "       [ 3.68512606e+00, -5.45368957e+00],\n",
       "       [ 4.85978165e+00, -5.66483472e+00],\n",
       "       [ 3.06799980e+00, -1.00129262e+01],\n",
       "       [ 1.40769800e+00, -1.00430103e+01],\n",
       "       [ 6.03878837e+00, -5.00286233e+00],\n",
       "       [ 5.89238890e+00, -7.39389097e+00],\n",
       "       [ 5.18658521e+00, -9.50188976e+00],\n",
       "       [ 2.10859281e+00, -9.30288078e+00],\n",
       "       [ 1.17293717e+00, -8.41787765e+00],\n",
       "       [ 5.57392132e+00, -5.01281866e+00],\n",
       "       [ 4.21948388e+00, -9.97151787e+00],\n",
       "       [ 4.16613278e+00, -1.03615758e+01],\n",
       "       [ 3.81349774e+00, -9.37687847e+00],\n",
       "       [ 7.12100589e+00, -9.35443372e+00],\n",
       "       [ 5.26612386e+00, -4.88023856e+00],\n",
       "       [ 6.83209346e+00, -7.97885845e+00],\n",
       "       [ 4.88910134e+00, -7.71946470e+00],\n",
       "       [ 1.29407703e-01, -9.47180866e+00],\n",
       "       [ 6.08780029e+00, -5.58074660e+00],\n",
       "       [ 1.97038105e-01, -1.03328660e+01],\n",
       "       [ 8.58046184e-01, -1.08548470e+01],\n",
       "       [ 6.21812610e+00, -9.72539321e+00],\n",
       "       [ 3.41667552e+00, -1.08779088e+01],\n",
       "       [ 6.71518684e+00, -4.71144244e+00],\n",
       "       [ 1.15152100e+00, -9.37946851e+00],\n",
       "       [ 2.00375922e+00, -1.05635518e+01],\n",
       "       [ 6.10358903e+00, -5.24208495e+00],\n",
       "       [-1.33970998e+00, -9.01136233e+00],\n",
       "       [ 1.28509948e+00, -8.74677038e+00],\n",
       "       [ 2.51658291e+00, -8.61589758e+00],\n",
       "       [ 6.87084637e-02, -9.83372788e+00],\n",
       "       [ 6.32689587e+00, -9.41415407e+00],\n",
       "       [ 1.37808821e+00, -1.12519895e+01],\n",
       "       [ 3.56880473e+00, -6.76964666e+00],\n",
       "       [ 5.17723698e+00, -5.75679889e+00],\n",
       "       [ 5.53624754e+00, -6.31999913e+00],\n",
       "       [ 4.14179799e+00, -5.54333651e+00],\n",
       "       [ 2.59798003e+00, -9.26459604e+00],\n",
       "       [ 6.01786760e-01, -1.08487363e+01],\n",
       "       [ 5.55009368e+00, -7.18964719e+00],\n",
       "       [ 4.59716584e+00, -9.09916545e+00],\n",
       "       [ 2.47585850e+00, -6.08466796e+00],\n",
       "       [ 1.80691164e+00, -1.02682409e+01],\n",
       "       [ 6.27533425e+00, -7.25920920e+00],\n",
       "       [ 4.23949738e+00, -6.09490747e+00],\n",
       "       [ 4.12225573e+00, -6.25835033e+00],\n",
       "       [ 3.34379950e+00, -7.07715627e+00],\n",
       "       [ 6.29582234e+00, -9.27246125e+00],\n",
       "       [ 6.04072591e+00, -6.00178252e+00],\n",
       "       [ 5.08855823e+00, -9.21692102e+00],\n",
       "       [ 6.09111250e+00, -1.06397526e+01],\n",
       "       [ 4.58678094e+00, -5.79519811e+00],\n",
       "       [ 5.48694185e+00, -8.78504788e+00],\n",
       "       [ 5.40939682e+00, -8.29272681e+00],\n",
       "       [ 1.78091773e+00, -8.94010252e+00],\n",
       "       [ 1.59813039e+00, -1.04281086e+01],\n",
       "       [ 2.69990597e+00, -1.02177282e+01],\n",
       "       [ 4.44936520e+00, -6.05633715e+00],\n",
       "       [ 4.82631270e+00, -6.32039983e+00],\n",
       "       [ 1.86289136e+00, -1.04465934e+01],\n",
       "       [ 5.29177605e+00, -5.97965161e+00],\n",
       "       [ 6.01563529e+00, -3.99204134e+00],\n",
       "       [ 5.63977144e+00, -5.43421051e+00],\n",
       "       [ 7.39075792e+00, -9.46965871e+00],\n",
       "       [ 1.99811491e+00, -1.06985867e+01],\n",
       "       [ 1.22541653e+00, -1.16638471e+01],\n",
       "       [ 6.43697372e+00, -7.77245685e+00],\n",
       "       [ 5.76557362e+00, -6.08776059e+00],\n",
       "       [ 5.73101780e+00, -7.92011436e+00],\n",
       "       [ 4.65587959e+00, -4.35174163e+00]])"
      ]
     },
     "execution_count": 89,
     "metadata": {},
     "output_type": "execute_result"
    }
   ],
   "source": [
    "data"
   ]
  },
  {
   "cell_type": "code",
   "execution_count": 95,
   "id": "20c9e5e1-68f6-477f-96c6-15ebc2a1afce",
   "metadata": {},
   "outputs": [
    {
     "name": "stderr",
     "output_type": "stream",
     "text": [
      "C:\\ProgramData\\anaconda3\\Lib\\site-packages\\sklearn\\cluster\\_kmeans.py:1446: UserWarning: KMeans is known to have a memory leak on Windows with MKL, when there are less chunks than available threads. You can avoid it by setting the environment variable OMP_NUM_THREADS=2.\n",
      "  warnings.warn(\n"
     ]
    },
    {
     "data": {
      "text/plain": [
       "<matplotlib.collections.PathCollection at 0x1d77e7c8500>"
      ]
     },
     "execution_count": 95,
     "metadata": {},
     "output_type": "execute_result"
    },
    {
     "data": {
      "image/png": "[encoded data removed]",
      "text/plain": [
       "<Figure size 640x480 with 1 Axes>"
      ]
     },
     "metadata": {},
     "output_type": "display_data"
    }
   ],
   "source": [
    "kmeans = KMeans(n_clusters=5,random_state=42,n_init='auto').fit(data) #auto=initialize cluster centroid automatically\n",
    "labels = kmeans.labels_ # contains cluster(label) for each data point specifying which cluster each data points belongs to\n",
    "set(labels)\n",
    "centroids = kmeans.cluster_centers_   # stores the coordinates of the centroids for the 5 clusters\n",
    "plt.scatter(data[:,0],data[:,1],c=labels,cmap='viridis')    #visual distinction\n",
    "# it'll plot datapoints and color each points according to the cluster labels"
   ]
  },
  {
   "cell_type": "code",
   "execution_count": 97,
   "id": "a54c4ef2-f557-454c-bad1-07521e572dbc",
   "metadata": {},
   "outputs": [
    {
     "data": {
      "text/plain": [
       "<matplotlib.collections.PathCollection at 0x1d77ac049e0>"
      ]
     },
     "execution_count": 97,
     "metadata": {},
     "output_type": "execute_result"
    },
    {
     "data": {
      "image/png": "[encoded data removed]",
      "text/plain": [
       "<Figure size 640x480 with 1 Axes>"
      ]
     },
     "metadata": {},
     "output_type": "display_data"
    }
   ],
   "source": [
    "plt.scatter(centroids[:,0],centroids[:,1],color='red')"
   ]
  },
  {
   "cell_type": "code",
   "execution_count": 98,
   "id": "d031bd09-dcdd-4da0-9530-fc1a98f9b154",
   "metadata": {},
   "outputs": [
    {
     "data": {
      "text/plain": [
       "<matplotlib.legend.Legend at 0x1d77e727ec0>"
      ]
     },
     "execution_count": 98,
     "metadata": {},
     "output_type": "execute_result"
    },
    {
     "data": {
      "image/png": "[encoded data removed]",
      "text/plain": [
       "<Figure size 640x480 with 1 Axes>"
      ]
     },
     "metadata": {},
     "output_type": "display_data"
    }
   ],
   "source": [
    "plt.legend(list[labels])"
   ]
  },
  {
   "cell_type": "code",
   "execution_count": 108,
   "id": "351e10b6-c08b-4695-9fe5-b4f8421a7300",
   "metadata": {},
   "outputs": [
    {
     "data": {
      "text/plain": [
       "array([1, 1, 1])"
      ]
     },
     "execution_count": 108,
     "metadata": {},
     "output_type": "execute_result"
    }
   ],
   "source": [
    "kmeans.predict([[1,4],[-6,4],[6,-1]])"
   ]
  },
  {
   "cell_type": "code",
   "execution_count": null,
   "id": "5068c004-bc3e-46d2-b57b-fafd9ed06ac6",
   "metadata": {},
   "outputs": [],
   "source": []
  }
 ],
 "metadata": {
  "kernelspec": {
   "display_name": "Python 3 (ipykernel)",
   "language": "python",
   "name": "python3"
  },
  "language_info": {
   "codemirror_mode": {
    "name": "ipython",
    "version": 3
   },
   "file_extension": ".py",
   "mimetype": "text/x-python",
   "name": "python",
   "nbconvert_exporter": "python",
   "pygments_lexer": "ipython3",
   "version": "3.12.4"
  }
 },
 "nbformat": 4,
 "nbformat_minor": 5
}
